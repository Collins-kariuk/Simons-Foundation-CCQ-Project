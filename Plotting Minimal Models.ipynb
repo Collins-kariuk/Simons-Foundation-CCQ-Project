{
 "cells": [
  {
   "cell_type": "code",
   "execution_count": 1,
   "metadata": {},
   "outputs": [
    {
     "name": "stdout",
     "output_type": "stream",
     "text": [
      "Warning: could not identify MPI environment!\n"
     ]
    },
    {
     "name": "stderr",
     "output_type": "stream",
     "text": [
      "Starting serial run at: 2023-08-03 14:58:09.294450\n"
     ]
    }
   ],
   "source": [
    "# import necessary dependencies\n",
    "from itertools import product as itp\n",
    "from pythtb import *\n",
    "from triqs.lattice.tight_binding import TBLattice\n",
    "import sympy as sp\n",
    "import warnings\n",
    "import numpy as np\n",
    "import matplotlib.pyplot as plt"
   ]
  },
  {
   "cell_type": "code",
   "execution_count": 2,
   "metadata": {},
   "outputs": [],
   "source": [
    "from triqs.lattice.utils import TB_from_pythTB\n",
    "w90_input = w90('La2CuO4 Files', 'lco')\n",
    "fermi_ev = 12.7367\n",
    "w90_model = w90_input.model(zero_energy = fermi_ev, min_hopping_norm = 0.038, max_distance = None)\n",
    "w90_triqs = TB_from_pythTB(w90_model)"
   ]
  },
  {
   "cell_type": "code",
   "execution_count": 4,
   "metadata": {},
   "outputs": [],
   "source": [
    "def compareBandStructure(w90_input, fermi_ev):\n",
    "    # get band structure from Wannier90 in the form of\n",
    "    # list of k-points in reduced coordinates\n",
    "    # energies interpolated by Wannier90\n",
    "    (w90_kpt, w90_evals) = w90_input.w90_bands_consistency()\n",
    "\n",
    "    # obtain simplified models based on various cutoffs\n",
    "    w90_model_038 = w90_input.model(zero_energy = fermi_ev, min_hopping_norm = 0.038, max_distance = None)\n",
    "    w90_model_05 = w90_input.model(zero_energy = fermi_ev, min_hopping_norm = 0.05, max_distance = None)\n",
    "    w90_model_45 = w90_input.model(zero_energy = fermi_ev, min_hopping_norm = 0.45, max_distance = None)\n",
    "\n",
    "    # solve simplified models on the same k-path as in Wannier90\n",
    "    int_evals_038 = w90_model_038.solve_all(w90_kpt)\n",
    "    int_evals_05 = w90_model_05.solve_all(w90_kpt)\n",
    "    int_evals_45 = w90_model_45.solve_all(w90_kpt)\n",
    "\n",
    "    # setting up the plots\n",
    "    fig, ax = plt.subplots(dpi = 2000)\n",
    "\n",
    "    # plotting the full Wannier90 model\n",
    "    for i in range(w90_evals.shape[0]):\n",
    "        x_axis = list(range(w90_evals.shape[1]))\n",
    "        y_axis = w90_evals[i] - fermi_ev\n",
    "        ax.plot(x_axis, y_axis, \"k-\", zorder = -100)\n",
    "\n",
    "    # plotting the minimal models\n",
    "    for i in range(int_evals_038.shape[0]):\n",
    "        ax.plot(list(range(int_evals_038.shape[1])), int_evals_038[i], \"r-\", zorder = -50)\n",
    "        ax.plot(list(range(int_evals_05.shape[1])), int_evals_05[i], \"g-\", zorder = -50)\n",
    "        ax.plot(list(range(int_evals_45.shape[1])), int_evals_45[i], \"c-\", zorder = -50)\n",
    "    \n",
    "    # plotting the horizontal line that passes through the y-axis\n",
    "    ax.axhline(y = 0, color = 'm', linestyle = '--')\n",
    "    ax.set_yticks(np.arange(-2, 2.1, step = 1))\n",
    "\n",
    "    # increasing the width of the curves\n",
    "    lines = ax.lines\n",
    "    for line in lines:\n",
    "        line.set_linewidth(2.5)\n",
    "    \n",
    "    # coordinates of the high symmetry points\n",
    "    G = np.array([0.00, 0.00, 0.00])\n",
    "    N = np.array([0.25, -0.25, 0.25])\n",
    "    X = np.array([0.00, 0.00, 0.50])\n",
    "    M = np.array([0.25, 0.25, -0.25])\n",
    "\n",
    "    # x-axis labels of the high-symmetry points\n",
    "    kpath_labels = ['G', 'N', 'X', 'G', 'M']\n",
    "    idx_kpt = {}\n",
    "\n",
    "    # checking k-point coordinates equal to the high-symmetry point coordinates\n",
    "    for name, idx in (zip(('G', 'N', 'X', 'M'), [G, N, X, M])):\n",
    "        idx_kpt[name] = list(np.where((w90_kpt == idx).all(axis = 1))[0])\n",
    "    \n",
    "    kpath_xticks = list([x[0] for x in idx_kpt.values()])\n",
    "    kpath_xticks.append(idx_kpt['G'][1])\n",
    "    kpath_xticks = sorted(kpath_xticks)\n",
    "    ax.set_xticks(kpath_xticks)\n",
    "    ax.set_xticklabels(kpath_labels)\n",
    "\n",
    "\n",
    "    for n in range(len(kpath_xticks)):\n",
    "        ax.axvline(x = kpath_xticks[n], linewidth = 1, color = 'k')\n",
    "\n",
    "    \n",
    "    ax.set_xlim(0, int_evals_038.shape[1] - 1)\n",
    "    ax.set_ylabel(r\"Band Energy - $E_F$ (eV)\")\n",
    "    ax.set_title(\"Comparing Minimal Models\")\n",
    "    ax.legend([\"Full model\", \"Cutoff at 0.038 eV\", \"Cutoff at 0.05 eV\", \"Cutoff at 0.45 eV\"])\n",
    "\n",
    "# calling the function\n",
    "lanthanum_w90_input = w90('La2CuO4 Files', 'lco')\n",
    "compareBandStructure(lanthanum_w90_input, 12.7367)"
   ]
  },
  {
   "cell_type": "code",
   "execution_count": null,
   "metadata": {},
   "outputs": [],
   "source": []
  }
 ],
 "metadata": {
  "kernelspec": {
   "display_name": "TRIQS",
   "language": "python",
   "name": "triqs"
  },
  "language_info": {
   "codemirror_mode": {
    "name": "ipython",
    "version": 3
   },
   "file_extension": ".py",
   "mimetype": "text/x-python",
   "name": "python",
   "nbconvert_exporter": "python",
   "pygments_lexer": "ipython3",
   "version": "3.11.4"
  },
  "orig_nbformat": 4
 },
 "nbformat": 4,
 "nbformat_minor": 2
}
