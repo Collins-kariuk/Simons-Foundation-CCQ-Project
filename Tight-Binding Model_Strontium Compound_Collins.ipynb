{
 "cells": [
  {
   "cell_type": "code",
   "execution_count": 15,
   "id": "ccd756f3-44ee-4f2f-8f4c-ba06c91a888c",
   "metadata": {},
   "outputs": [],
   "source": [
    "%matplotlib inline\n",
    "from IPython.display import display\n",
    "from IPython.display import Image\n",
    "import sys\n",
    "import math\n",
    "import numpy as np\n",
    "import argparse\n",
    "import os\n",
    "import shutil\n",
    "import scipy\n",
    "import re\n",
    "import matplotlib.pyplot as plt\n",
    "import seaborn as sns\n",
    "from mpl_toolkits.mplot3d.axes3d import Axes3D\n",
    "from matplotlib import cm, colors\n",
    "from scipy import integrate\n",
    "import scipy.constants as cst\n",
    "import h5py\n",
    "from itertools import product as itp\n",
    "\n",
    "# from triqs_dft_tools.sumk_dft import *\n",
    "# from triqs_dft_tools.sumk_dft_tools import *\n",
    "# from h5 import HDFArchive\n",
    "# from triqs.gf.descriptors import Fourier\n",
    "# from triqs.lattice.tight_binding import energies_on_bz_path, energy_matrix_on_bz_path, dos\n",
    "# from triqs.gf import *\n",
    "# np.set_printoptions(precision=4,suppress=True, linewidth=160)\n",
    "\n",
    "from pythtb import *"
   ]
  },
  {
   "cell_type": "code",
   "execution_count": 16,
   "id": "7ca51073-3d72-4058-bfaf-ffa2154937cd",
   "metadata": {},
   "outputs": [],
   "source": [
    "# the path to read the input\n",
    "w90_input = w90('/Users/munenekariuki/Downloads/Simons_Foundation_Internship/Tight Binding Model/Tight Binding Model Examples/tb_analytic', \n",
    "                'sccuo2')\n",
    "# the cutoff Fermi energy\n",
    "fermi_ev = 9.6082\n",
    "\n",
    "\n",
    "# RED - our self-defined model where we set our zero energy, minimum hopping ampltide, and maximum distance we'd like to consider\n",
    "w90_model = w90_input.model(zero_energy=fermi_ev, min_hopping_norm=0.05, max_distance=None)\n",
    "(dist, ham) = w90_input.dist_hop()\n",
    "\n",
    "\n",
    "# corresponds to the BLACK line\n",
    "# Returns\n",
    "# - k-points reduced coordinates used in the interpolation in Wannier90 code\n",
    "# - energies interpolated by Wannier90 in eV.\n",
    "(w90_kpt, w90_evals) = w90_input.w90_bands_consistency()\n",
    "\n",
    "\n",
    "# corresponds to the red line\n",
    "int_evals = w90_model.solve_all(w90_kpt)\n",
    "\n",
    "# solve model\n",
    "# evals = w90_model.solve_all(w90_kpt)\n",
    "\n",
    "# fig, ax = plt.subplots(dpi=150)\n",
    "\n",
    "# for i in range(w90_evals.shape[0]):\n",
    "#     ax.plot(list(range(w90_evals.shape[1])), w90_evals[i]-fermi_ev, \"k-\", zorder=-100)\n",
    "\n",
    "# for i in range(int_evals.shape[0]):\n",
    "#     ax.plot(list(range(int_evals.shape[1])), int_evals[i], \"r-\", zorder=-50)\n",
    "\n",
    "# ax.set_xlim(0, int_evals.shape[1]-1)\n",
    "# ax.set_xlabel(\"K-path from Wannier90\")\n",
    "# ax.set_ylabel(\"Band energy (eV)\")"
   ]
  },
  {
   "cell_type": "code",
   "execution_count": 17,
   "id": "9410db2f-bdc6-43ec-822c-46871544909e",
   "metadata": {},
   "outputs": [
    {
     "name": "stdout",
     "output_type": "stream",
     "text": [
      "---------------------------------------\n",
      "report of tight-binding model\n",
      "---------------------------------------\n",
      "k-space dimension           = 3\n",
      "r-space dimension           = 3\n",
      "number of spin components   = 1\n",
      "periodic directions         = [0, 1, 2]\n",
      "number of orbitals          = 2\n",
      "number of electronic states = 2\n",
      "lattice vectors:\n",
      " #  0  ===>  [  1.7621 , -7.9961 ,     0.0 ]\n",
      " #  1  ===>  [  1.7621 ,  7.9961 ,     0.0 ]\n",
      " #  2  ===>  [     0.0 ,     0.0 ,  3.9394 ]\n",
      "positions of orbitals:\n",
      " #  0  ===>  [ -0.0672 ,  1.0672 ,    0.25 ]\n",
      " #  1  ===>  [ -0.9361 ,  0.9361 ,    0.75 ]\n",
      "site energies:\n",
      " #  0  ===>    0.0183\n",
      " #  1  ===>   -0.1302\n",
      "hoppings:\n",
      "<  0 | H |  0 + [  0 ,  0 ,  1 ] >     ===>  -0.5013 +     0.0 i\n",
      "<  1 | H |  1 + [  0 ,  0 ,  1 ] >     ===>  -0.4524 +     0.0 i\n",
      "<  0 | H |  0 + [  0 ,  0 ,  2 ] >     ===>  -0.0622 +     0.0 i\n",
      "<  1 | H |  1 + [  0 ,  0 ,  2 ] >     ===>   -0.064 +     0.0 i\n",
      "<  0 | H |  1 + [  1 ,  0 , -1 ] >     ===>   0.0564 +     0.0 i\n",
      "<  0 | H |  1 + [  1 ,  0 ,  0 ] >     ===>   0.0564 +     0.0 i\n",
      "hopping distances:\n",
      "|  pos(  0 )  - pos(  0 + [  0 ,  0 ,  1 ] ) |  =    3.9394\n",
      "|  pos(  1 )  - pos(  1 + [  0 ,  0 ,  1 ] ) |  =    3.9394\n",
      "|  pos(  0 )  - pos(  0 + [  0 ,  0 ,  2 ] ) |  =    7.8788\n",
      "|  pos(  1 )  - pos(  1 + [  0 ,  0 ,  2 ] ) |  =    7.8788\n",
      "|  pos(  0 )  - pos(  1 + [  1 ,  0 , -1 ] ) |  =    2.8772\n",
      "|  pos(  0 )  - pos(  1 + [  1 ,  0 ,  0 ] ) |  =    2.8772\n",
      "\n"
     ]
    }
   ],
   "source": [
    "w90_model.display()"
   ]
  },
  {
   "cell_type": "code",
   "execution_count": 18,
   "id": "41496cc0",
   "metadata": {},
   "outputs": [],
   "source": [
    "# (fig, ax) = w90_model.visualize(0, 1)\n",
    "# ax.set_title(\"Title goes here\")\n",
    "# fig.savefig(\"model.pdf\")"
   ]
  },
  {
   "cell_type": "code",
   "execution_count": 19,
   "id": "ecb5ad21-7ea0-4731-99a8-0871f86b7576",
   "metadata": {},
   "outputs": [
    {
     "name": "stdout",
     "output_type": "stream",
     "text": [
      "{'_dim_k': 3, '_dim_r': 3, '_lat': array([[ 1.76207011, -7.99610659,  0.        ],\n",
      "       [ 1.76207011,  7.99610659,  0.        ],\n",
      "       [ 0.        ,  0.        ,  3.93940453]]), '_orb': array([[-0.06720294,  1.06720298,  0.24999892],\n",
      "       [-0.93605725,  0.93605725,  0.75000126]]), '_norb': 2, '_per': [0, 1, 2], '_nspin': 1, '_assume_position_operator_diagonal': False, '_nsta': 2, '_site_energies': array([ 0.018272, -0.130246]), '_site_energies_specified': array([ True,  True]), '_hoppings': [[(-0.501316+0j), 0, 0, array([0, 0, 1])], [(-0.452374+0j), 1, 1, array([0, 0, 1])], [(-0.062208+0j), 0, 0, array([0, 0, 2])], [(-0.064023+0j), 1, 1, array([0, 0, 2])], [(0.056434+0j), 0, 1, array([ 1,  0, -1])], [(0.056436+0j), 0, 1, array([1, 0, 0])]]}\n"
     ]
    }
   ],
   "source": [
    "print(w90_model.__dict__)"
   ]
  },
  {
   "cell_type": "code",
   "execution_count": 20,
   "id": "6cf4914f",
   "metadata": {},
   "outputs": [
    {
     "name": "stdout",
     "output_type": "stream",
     "text": [
      "[[-0.06720294  1.06720298  0.24999892]\n",
      " [-0.93605725  0.93605725  0.75000126]]\n"
     ]
    }
   ],
   "source": [
    "orbs = np.matrix(w90_model._orb)\n",
    "print(orbs)"
   ]
  },
  {
   "cell_type": "code",
   "execution_count": 21,
   "id": "f3b4f172",
   "metadata": {},
   "outputs": [
    {
     "name": "stdout",
     "output_type": "stream",
     "text": [
      "[[ 1.76207011 -7.99610659  0.        ]\n",
      " [ 1.76207011  7.99610659  0.        ]\n",
      " [ 0.          0.          3.93940453]]\n"
     ]
    }
   ],
   "source": [
    "lat = np.matrix(w90_model._lat)\n",
    "print(lat)"
   ]
  },
  {
   "cell_type": "code",
   "execution_count": 22,
   "id": "a9b22f45",
   "metadata": {},
   "outputs": [
    {
     "name": "stdout",
     "output_type": "stream",
     "text": [
      "[[(-0.501316+0j), 0, 0, array([0, 0, 1])], [(-0.452374+0j), 1, 1, array([0, 0, 1])], [(-0.062208+0j), 0, 0, array([0, 0, 2])], [(-0.064023+0j), 1, 1, array([0, 0, 2])], [(0.056434+0j), 0, 1, array([ 1,  0, -1])], [(0.056436+0j), 0, 1, array([1, 0, 0])]]\n"
     ]
    }
   ],
   "source": [
    "print(w90_model._hoppings)"
   ]
  },
  {
   "cell_type": "code",
   "execution_count": 23,
   "id": "e45e123b",
   "metadata": {},
   "outputs": [],
   "source": [
    "# from mycolorpy import colorlist as mcp\n",
    "\n",
    "# fig = plt.figure()\n",
    "# ax = fig.add_subplot(111, projection='3d')\n",
    "\n",
    "# print(lat.shape)\n",
    "\n",
    "# from itertools import product as itp\n",
    "\n",
    "# layers = 4\n",
    "# len_itp = layers**3\n",
    "# colors = mcp.gen_color(cmap=\"hsv\",n=len_itp)\n",
    "\n",
    "# for l, (l1, l2, l3) in enumerate(itp(range(layers), repeat=3)):\n",
    "    \n",
    "#     #print(l, l1, l2, l3)\n",
    "#     for orb in orbs:\n",
    "#         o = lat @ (orb.T + np.matrix([l1, l2, l3]).T)\n",
    "#         ax.scatter(o[0], o[1], o[2], c=colors[l])\n",
    "#         o = lat @ (orb.T - np.matrix([l1, l2, l3]).T)\n",
    "#         ax.scatter(o[0], o[1], o[2], c=colors[l])"
   ]
  },
  {
   "cell_type": "code",
   "execution_count": 28,
   "id": "85b333fb",
   "metadata": {},
   "outputs": [
    {
     "name": "stdout",
     "output_type": "stream",
     "text": [
      "[[ 1.76207  -7.996107  0.      ]\n",
      " [ 1.76207   7.996107  0.      ]\n",
      " [ 0.        0.        3.939405]]\n",
      "2\n"
     ]
    }
   ],
   "source": [
    "# calling TB_from_pythTB on our model\n",
    "from triqs.lattice.utils import TB_from_wannier90\n",
    "w90_triqs = TB_from_wannier90('sccuo2')\n",
    "# print(w90_triqs)\n",
    "# for key, hopping in w90_triqs.hoppings.items():\n",
    "#     print(key)\n",
    "#     print(hopping)\n",
    "print(w90_triqs.units)\n",
    "print(w90_triqs.n_orbitals)"
   ]
  },
  {
   "cell_type": "code",
   "execution_count": 32,
   "id": "1cbeb0cd",
   "metadata": {
    "scrolled": true
   },
   "outputs": [],
   "source": [
    "from triqs.lattice.tight_binding import TBLattice\n",
    "import sympy as sp\n",
    "\n",
    "def sympyfy(tb_lat_obj):\n",
    "    I = sp.I\n",
    "    kx, ky, kz = sp.symbols(\"kx ky kz\")\n",
    "    L1_1, L1_2, L1_3, L2_1, L2_2, L2_3, L3_1, L3_2, L3_3 = sp.symbols(\"L1_1 L1_2 L1_3 L2_1 L2_2 L2_3 L3_1 L3_2 L3_3\")\n",
    "    k_space_matrix = sp.Matrix([kx, ky, kz])\n",
    "    lattice = sp.Matrix([[L1_1, L1_2, L1_3],\n",
    "                    [L2_1, L2_2, L2_3],\n",
    "                    [L3_1, L3_2, L3_3]])\n",
    "    \n",
    "    num_orb = tb_lat_obj.n_orbitals\n",
    "    # the inter-orbital electron hoppings\n",
    "    TB_lat_obj_hops = tb_lat_obj.hoppings\n",
    "    max_x, max_y, max_z = list(np.max(np.array(list(TB_lat_obj_hops.keys())), axis = 0))\n",
    "    num_cells_x, num_cells_y, num_cells_z = [2 * max_coord + 1 for max_coord in [max_x, max_y, max_z]]\n",
    "\n",
    "    Hrij = np.zeros((num_cells_x, num_cells_y, num_cells_z, num_orb, num_orb), dtype = sp.exp)\n",
    "    for key, hopping in TB_lat_obj_hops.items():\n",
    "        rx, ry, rz = key\n",
    "        Hrij[rx + max_x, ry + max_y, rz + max_z] = hopping\n",
    "\n",
    "    Hexp = np.empty_like(Hrij, dtype = sp.exp)\n",
    "    for xi, yi, zi in itp(range(num_cells_x), range(num_cells_y), range(num_cells_z)):\n",
    "        r = np.array([xi - max_x, yi - max_y, zi - max_z])\n",
    "        r = lattice.dot(r)\n",
    "        eikr = sp.exp(-I * k_space_matrix.dot(r))\n",
    "        Hexp[xi, yi, zi, :, :] = eikr\n",
    "\n",
    "    Hk = np.sum(Hrij * Hexp, axis = (0,1,2))\n",
    "\n",
    "    for i, j in itp(range(num_orb), repeat=2):\n",
    "        Hk[i, j] = Hk[i, j].rewrite(sp.cos).simplify()\n",
    "\n",
    "    # the expanded analytical form of Hk\n",
    "    Hk_analytical = sp.Matrix(Hk)\n",
    "    \n",
    "    # symbols for the dot product between the lattice constants and the momentum space matrix\n",
    "    ak, bk, ck = sp.symbols(\"ak bk ck\")\n",
    "    \n",
    "    # reducing our analytical Hk form using the lattice constants-k-space matrix dot product\n",
    "    Hk_analytical = Hk_analytical.subs(L1_1*kx + L2_1*ky + L3_1*kz, ak)\n",
    "    Hk_analytical = Hk_analytical.subs(L1_2*kx + L2_2*ky + L3_2*kz, bk)\n",
    "    Hk_analytical = Hk_analytical.subs(L1_3*kx + L2_3*ky + L3_3*kz, ck)\n",
    "    \n",
    "    # our reduced analytical expression as a NumPy array\n",
    "    Hk_analytical = np.array(Hk_analytical)\n",
    "    return Hk_analytical\n",
    "    # # foundation of numerical form of Hk\n",
    "    # Hk_numerical = sp.Matrix(Hk)\n",
    "\n",
    "    # TB_lat_obj_units = tb_lat_obj.units\n",
    "    # TB_lat_obj_units_transpose = np.transpose(TB_lat_obj_units)\n",
    "    \n",
    "    # # lattice constants\n",
    "    # a = TB_lat_obj_units_transpose[0]\n",
    "    # b = TB_lat_obj_units_transpose[1]\n",
    "    # c = TB_lat_obj_units_transpose[2]\n",
    "\n",
    "    # # numerical dot product between lattice constants and momentum space matrix\n",
    "    # ak_numerical = a.dot(k_space_matrix)[0]\n",
    "    # bk_numerical = b.dot(k_space_matrix)[0]\n",
    "    # ck_numerical = c.dot(k_space_matrix)[0]\n",
    "    \n",
    "    # # performing numerical subsitutions\n",
    "    # Hk_numerical = Hk_numerical.subs(L1_1*kx + L2_1*ky + L3_1*kz, ak_numerical)\n",
    "    # Hk_numerical = Hk_numerical.subs(L1_2*kx + L2_2*ky + L3_2*kz, bk_numerical)\n",
    "    # Hk_numerical = Hk_numerical.subs(L1_3*kx + L2_3*ky + L3_3*kz, ck_numerical)\n",
    "    \n",
    "    # # our reduced numerical expression as a NumPy array\n",
    "    # Hk_numerical = np.array(Hk_numerical)\n",
    "\n",
    "    # # check to see whether user wants analytical expression or numerical expression\n",
    "    # if numerical:\n",
    "    #     return Hk_numerical\n",
    "    # return Hk_analytical"
   ]
  },
  {
   "cell_type": "code",
   "execution_count": 33,
   "id": "96ab7f9a",
   "metadata": {},
   "outputs": [
    {
     "name": "stderr",
     "output_type": "stream",
     "text": [
      "/Users/munenekariuki/opt/anaconda3/envs/TRIQS/lib/python3.11/site-packages/sympy/matrices/matrices.py:1401: SymPyDeprecationWarning: \n",
      "\n",
      "Using the dot method to multiply non-row/column vectors is\n",
      "deprecated. Use * or @ to perform matrix multiplication.\n",
      "\n",
      "See https://docs.sympy.org/latest/explanation/active-deprecations.html#deprecated-matrix-dot-non-vector\n",
      "for details.\n",
      "\n",
      "This has been deprecated since SymPy version 1.2. It\n",
      "will be removed in a future version of SymPy.\n",
      "\n",
      "  return self.dot(Matrix(b))\n"
     ]
    },
    {
     "ename": "KeyboardInterrupt",
     "evalue": "",
     "output_type": "error",
     "traceback": [
      "\u001b[0;31m---------------------------------------------------------------------------\u001b[0m",
      "\u001b[0;31mKeyboardInterrupt\u001b[0m                         Traceback (most recent call last)",
      "Cell \u001b[0;32mIn[33], line 2\u001b[0m\n\u001b[1;32m      1\u001b[0m \u001b[39m# print(sympyfy(w90_triqs, False)) # outputs the analytical form\u001b[39;00m\n\u001b[0;32m----> 2\u001b[0m \u001b[39mprint\u001b[39m(sympyfy(w90_triqs))\n",
      "Cell \u001b[0;32mIn[32], line 34\u001b[0m, in \u001b[0;36msympyfy\u001b[0;34m(tb_lat_obj)\u001b[0m\n\u001b[1;32m     31\u001b[0m Hk \u001b[39m=\u001b[39m np\u001b[39m.\u001b[39msum(Hrij \u001b[39m*\u001b[39m Hexp, axis \u001b[39m=\u001b[39m (\u001b[39m0\u001b[39m,\u001b[39m1\u001b[39m,\u001b[39m2\u001b[39m))\n\u001b[1;32m     33\u001b[0m \u001b[39mfor\u001b[39;00m i, j \u001b[39min\u001b[39;00m itp(\u001b[39mrange\u001b[39m(num_orb), repeat\u001b[39m=\u001b[39m\u001b[39m2\u001b[39m):\n\u001b[0;32m---> 34\u001b[0m     Hk[i, j] \u001b[39m=\u001b[39m Hk[i, j]\u001b[39m.\u001b[39mrewrite(sp\u001b[39m.\u001b[39mcos)\u001b[39m.\u001b[39msimplify()\n\u001b[1;32m     36\u001b[0m \u001b[39m# the expanded analytical form of Hk\u001b[39;00m\n\u001b[1;32m     37\u001b[0m Hk_analytical \u001b[39m=\u001b[39m sp\u001b[39m.\u001b[39mMatrix(Hk)\n",
      "File \u001b[0;32m~/opt/anaconda3/envs/TRIQS/lib/python3.11/site-packages/sympy/core/basic.py:1767\u001b[0m, in \u001b[0;36mBasic.simplify\u001b[0;34m(self, **kwargs)\u001b[0m\n\u001b[1;32m   1765\u001b[0m \u001b[39m\u001b[39m\u001b[39m\"\"\"See the simplify function in sympy.simplify\"\"\"\u001b[39;00m\n\u001b[1;32m   1766\u001b[0m \u001b[39mfrom\u001b[39;00m \u001b[39msympy\u001b[39;00m\u001b[39m.\u001b[39;00m\u001b[39msimplify\u001b[39;00m\u001b[39m.\u001b[39;00m\u001b[39msimplify\u001b[39;00m \u001b[39mimport\u001b[39;00m simplify\n\u001b[0;32m-> 1767\u001b[0m \u001b[39mreturn\u001b[39;00m simplify(\u001b[39mself\u001b[39m, \u001b[39m*\u001b[39m\u001b[39m*\u001b[39mkwargs)\n",
      "File \u001b[0;32m~/opt/anaconda3/envs/TRIQS/lib/python3.11/site-packages/sympy/simplify/simplify.py:699\u001b[0m, in \u001b[0;36msimplify\u001b[0;34m(expr, ratio, measure, rational, inverse, doit, **kwargs)\u001b[0m\n\u001b[1;32m    696\u001b[0m     expr \u001b[39m=\u001b[39m besselsimp(expr)\n\u001b[1;32m    698\u001b[0m \u001b[39mif\u001b[39;00m expr\u001b[39m.\u001b[39mhas(TrigonometricFunction, HyperbolicFunction):\n\u001b[0;32m--> 699\u001b[0m     expr \u001b[39m=\u001b[39m trigsimp(expr, deep\u001b[39m=\u001b[39m\u001b[39mTrue\u001b[39;00m)\n\u001b[1;32m    701\u001b[0m \u001b[39mif\u001b[39;00m expr\u001b[39m.\u001b[39mhas(log):\n\u001b[1;32m    702\u001b[0m     expr \u001b[39m=\u001b[39m shorter(expand_log(expr, deep\u001b[39m=\u001b[39m\u001b[39mTrue\u001b[39;00m), logcombine(expr))\n",
      "File \u001b[0;32m~/opt/anaconda3/envs/TRIQS/lib/python3.11/site-packages/sympy/simplify/trigsimp.py:523\u001b[0m, in \u001b[0;36mtrigsimp\u001b[0;34m(expr, **opts)\u001b[0m\n\u001b[1;32m    512\u001b[0m     \u001b[39mreturn\u001b[39;00m trigsimp_groebner(new, \u001b[39m*\u001b[39m\u001b[39m*\u001b[39mopts)\n\u001b[1;32m    514\u001b[0m trigsimpfunc \u001b[39m=\u001b[39m {\n\u001b[1;32m    515\u001b[0m     \u001b[39m'\u001b[39m\u001b[39mfu\u001b[39m\u001b[39m'\u001b[39m: (\u001b[39mlambda\u001b[39;00m x: fu(x, \u001b[39m*\u001b[39m\u001b[39m*\u001b[39mopts)),\n\u001b[1;32m    516\u001b[0m     \u001b[39m'\u001b[39m\u001b[39mmatching\u001b[39m\u001b[39m'\u001b[39m: (\u001b[39mlambda\u001b[39;00m x: futrig(x)),\n\u001b[0;32m   (...)\u001b[0m\n\u001b[1;32m    520\u001b[0m     \u001b[39m'\u001b[39m\u001b[39mold\u001b[39m\u001b[39m'\u001b[39m: \u001b[39mlambda\u001b[39;00m x: trigsimp_old(x, \u001b[39m*\u001b[39m\u001b[39m*\u001b[39mopts),\n\u001b[1;32m    521\u001b[0m                }[method]\n\u001b[0;32m--> 523\u001b[0m \u001b[39mreturn\u001b[39;00m trigsimpfunc(expr)\n",
      "File \u001b[0;32m~/opt/anaconda3/envs/TRIQS/lib/python3.11/site-packages/sympy/simplify/trigsimp.py:516\u001b[0m, in \u001b[0;36mtrigsimp.<locals>.<lambda>\u001b[0;34m(x)\u001b[0m\n\u001b[1;32m    511\u001b[0m         \u001b[39mreturn\u001b[39;00m new\n\u001b[1;32m    512\u001b[0m     \u001b[39mreturn\u001b[39;00m trigsimp_groebner(new, \u001b[39m*\u001b[39m\u001b[39m*\u001b[39mopts)\n\u001b[1;32m    514\u001b[0m trigsimpfunc \u001b[39m=\u001b[39m {\n\u001b[1;32m    515\u001b[0m     \u001b[39m'\u001b[39m\u001b[39mfu\u001b[39m\u001b[39m'\u001b[39m: (\u001b[39mlambda\u001b[39;00m x: fu(x, \u001b[39m*\u001b[39m\u001b[39m*\u001b[39mopts)),\n\u001b[0;32m--> 516\u001b[0m     \u001b[39m'\u001b[39m\u001b[39mmatching\u001b[39m\u001b[39m'\u001b[39m: (\u001b[39mlambda\u001b[39;00m x: futrig(x)),\n\u001b[1;32m    517\u001b[0m     \u001b[39m'\u001b[39m\u001b[39mgroebner\u001b[39m\u001b[39m'\u001b[39m: (\u001b[39mlambda\u001b[39;00m x: groebnersimp(x, \u001b[39m*\u001b[39m\u001b[39m*\u001b[39mopts)),\n\u001b[1;32m    518\u001b[0m     \u001b[39m'\u001b[39m\u001b[39mcombined\u001b[39m\u001b[39m'\u001b[39m: (\u001b[39mlambda\u001b[39;00m x: futrig(groebnersimp(x,\n\u001b[1;32m    519\u001b[0m                            polynomial\u001b[39m=\u001b[39m\u001b[39mTrue\u001b[39;00m, hints\u001b[39m=\u001b[39m[\u001b[39m2\u001b[39m, tan]))),\n\u001b[1;32m    520\u001b[0m     \u001b[39m'\u001b[39m\u001b[39mold\u001b[39m\u001b[39m'\u001b[39m: \u001b[39mlambda\u001b[39;00m x: trigsimp_old(x, \u001b[39m*\u001b[39m\u001b[39m*\u001b[39mopts),\n\u001b[1;32m    521\u001b[0m                }[method]\n\u001b[1;32m    523\u001b[0m \u001b[39mreturn\u001b[39;00m trigsimpfunc(expr)\n",
      "File \u001b[0;32m~/opt/anaconda3/envs/TRIQS/lib/python3.11/site-packages/sympy/simplify/trigsimp.py:1113\u001b[0m, in \u001b[0;36mfutrig\u001b[0;34m(e, hyper, **kwargs)\u001b[0m\n\u001b[1;32m   1110\u001b[0m     \u001b[39mreturn\u001b[39;00m e\n\u001b[1;32m   1112\u001b[0m old \u001b[39m=\u001b[39m e\n\u001b[0;32m-> 1113\u001b[0m e \u001b[39m=\u001b[39m bottom_up(e, _futrig)\n\u001b[1;32m   1115\u001b[0m \u001b[39mif\u001b[39;00m hyper \u001b[39mand\u001b[39;00m e\u001b[39m.\u001b[39mhas(HyperbolicFunction):\n\u001b[1;32m   1116\u001b[0m     e, f \u001b[39m=\u001b[39m hyper_as_trig(e)\n",
      "File \u001b[0;32m~/opt/anaconda3/envs/TRIQS/lib/python3.11/site-packages/sympy/core/traversal.py:237\u001b[0m, in \u001b[0;36mbottom_up\u001b[0;34m(rv, F, atoms, nonbasic)\u001b[0m\n\u001b[1;32m    235\u001b[0m \u001b[39mif\u001b[39;00m args \u001b[39mis\u001b[39;00m \u001b[39mnot\u001b[39;00m \u001b[39mNone\u001b[39;00m:\n\u001b[1;32m    236\u001b[0m     \u001b[39mif\u001b[39;00m args:\n\u001b[0;32m--> 237\u001b[0m         args \u001b[39m=\u001b[39m \u001b[39mtuple\u001b[39m([bottom_up(a, F, atoms, nonbasic) \u001b[39mfor\u001b[39;00m a \u001b[39min\u001b[39;00m args])\n\u001b[1;32m    238\u001b[0m         \u001b[39mif\u001b[39;00m args \u001b[39m!=\u001b[39m rv\u001b[39m.\u001b[39margs:\n\u001b[1;32m    239\u001b[0m             rv \u001b[39m=\u001b[39m rv\u001b[39m.\u001b[39mfunc(\u001b[39m*\u001b[39margs)\n",
      "File \u001b[0;32m~/opt/anaconda3/envs/TRIQS/lib/python3.11/site-packages/sympy/core/traversal.py:237\u001b[0m, in \u001b[0;36m<listcomp>\u001b[0;34m(.0)\u001b[0m\n\u001b[1;32m    235\u001b[0m \u001b[39mif\u001b[39;00m args \u001b[39mis\u001b[39;00m \u001b[39mnot\u001b[39;00m \u001b[39mNone\u001b[39;00m:\n\u001b[1;32m    236\u001b[0m     \u001b[39mif\u001b[39;00m args:\n\u001b[0;32m--> 237\u001b[0m         args \u001b[39m=\u001b[39m \u001b[39mtuple\u001b[39m([bottom_up(a, F, atoms, nonbasic) \u001b[39mfor\u001b[39;00m a \u001b[39min\u001b[39;00m args])\n\u001b[1;32m    238\u001b[0m         \u001b[39mif\u001b[39;00m args \u001b[39m!=\u001b[39m rv\u001b[39m.\u001b[39margs:\n\u001b[1;32m    239\u001b[0m             rv \u001b[39m=\u001b[39m rv\u001b[39m.\u001b[39mfunc(\u001b[39m*\u001b[39margs)\n",
      "File \u001b[0;32m~/opt/anaconda3/envs/TRIQS/lib/python3.11/site-packages/sympy/core/traversal.py:237\u001b[0m, in \u001b[0;36mbottom_up\u001b[0;34m(rv, F, atoms, nonbasic)\u001b[0m\n\u001b[1;32m    235\u001b[0m \u001b[39mif\u001b[39;00m args \u001b[39mis\u001b[39;00m \u001b[39mnot\u001b[39;00m \u001b[39mNone\u001b[39;00m:\n\u001b[1;32m    236\u001b[0m     \u001b[39mif\u001b[39;00m args:\n\u001b[0;32m--> 237\u001b[0m         args \u001b[39m=\u001b[39m \u001b[39mtuple\u001b[39m([bottom_up(a, F, atoms, nonbasic) \u001b[39mfor\u001b[39;00m a \u001b[39min\u001b[39;00m args])\n\u001b[1;32m    238\u001b[0m         \u001b[39mif\u001b[39;00m args \u001b[39m!=\u001b[39m rv\u001b[39m.\u001b[39margs:\n\u001b[1;32m    239\u001b[0m             rv \u001b[39m=\u001b[39m rv\u001b[39m.\u001b[39mfunc(\u001b[39m*\u001b[39margs)\n",
      "File \u001b[0;32m~/opt/anaconda3/envs/TRIQS/lib/python3.11/site-packages/sympy/core/traversal.py:237\u001b[0m, in \u001b[0;36m<listcomp>\u001b[0;34m(.0)\u001b[0m\n\u001b[1;32m    235\u001b[0m \u001b[39mif\u001b[39;00m args \u001b[39mis\u001b[39;00m \u001b[39mnot\u001b[39;00m \u001b[39mNone\u001b[39;00m:\n\u001b[1;32m    236\u001b[0m     \u001b[39mif\u001b[39;00m args:\n\u001b[0;32m--> 237\u001b[0m         args \u001b[39m=\u001b[39m \u001b[39mtuple\u001b[39m([bottom_up(a, F, atoms, nonbasic) \u001b[39mfor\u001b[39;00m a \u001b[39min\u001b[39;00m args])\n\u001b[1;32m    238\u001b[0m         \u001b[39mif\u001b[39;00m args \u001b[39m!=\u001b[39m rv\u001b[39m.\u001b[39margs:\n\u001b[1;32m    239\u001b[0m             rv \u001b[39m=\u001b[39m rv\u001b[39m.\u001b[39mfunc(\u001b[39m*\u001b[39margs)\n",
      "File \u001b[0;32m~/opt/anaconda3/envs/TRIQS/lib/python3.11/site-packages/sympy/core/traversal.py:240\u001b[0m, in \u001b[0;36mbottom_up\u001b[0;34m(rv, F, atoms, nonbasic)\u001b[0m\n\u001b[1;32m    238\u001b[0m     \u001b[39mif\u001b[39;00m args \u001b[39m!=\u001b[39m rv\u001b[39m.\u001b[39margs:\n\u001b[1;32m    239\u001b[0m         rv \u001b[39m=\u001b[39m rv\u001b[39m.\u001b[39mfunc(\u001b[39m*\u001b[39margs)\n\u001b[0;32m--> 240\u001b[0m     rv \u001b[39m=\u001b[39m F(rv)\n\u001b[1;32m    241\u001b[0m \u001b[39melif\u001b[39;00m atoms:\n\u001b[1;32m    242\u001b[0m     rv \u001b[39m=\u001b[39m F(rv)\n",
      "File \u001b[0;32m~/opt/anaconda3/envs/TRIQS/lib/python3.11/site-packages/sympy/simplify/trigsimp.py:1180\u001b[0m, in \u001b[0;36m_futrig\u001b[0;34m(e)\u001b[0m\n\u001b[1;32m   1141\u001b[0m trigs \u001b[39m=\u001b[39m \u001b[39mlambda\u001b[39;00m x: x\u001b[39m.\u001b[39mhas(TrigonometricFunction)\n\u001b[1;32m   1143\u001b[0m tree \u001b[39m=\u001b[39m [identity,\n\u001b[1;32m   1144\u001b[0m     (\n\u001b[1;32m   1145\u001b[0m     TR3,  \u001b[39m# canonical angles\u001b[39;00m\n\u001b[0;32m   (...)\u001b[0m\n\u001b[1;32m   1178\u001b[0m         factor_terms, TR12(x), trigs)],  \u001b[39m# expand tan of sum\u001b[39;00m\n\u001b[1;32m   1179\u001b[0m     )]\n\u001b[0;32m-> 1180\u001b[0m e \u001b[39m=\u001b[39m greedy(tree, objective\u001b[39m=\u001b[39mLops)(e)\n\u001b[1;32m   1182\u001b[0m \u001b[39mif\u001b[39;00m coeff \u001b[39mis\u001b[39;00m \u001b[39mnot\u001b[39;00m \u001b[39mNone\u001b[39;00m:\n\u001b[1;32m   1183\u001b[0m     e \u001b[39m=\u001b[39m coeff \u001b[39m*\u001b[39m e\n",
      "File \u001b[0;32m~/opt/anaconda3/envs/TRIQS/lib/python3.11/site-packages/sympy/strategies/core.py:111\u001b[0m, in \u001b[0;36mminimize.<locals>.minrule\u001b[0;34m(expr)\u001b[0m\n\u001b[1;32m    110\u001b[0m \u001b[39mdef\u001b[39;00m \u001b[39mminrule\u001b[39m(expr):\n\u001b[0;32m--> 111\u001b[0m     \u001b[39mreturn\u001b[39;00m \u001b[39mmin\u001b[39m([rule(expr) \u001b[39mfor\u001b[39;00m rule \u001b[39min\u001b[39;00m rules], key\u001b[39m=\u001b[39mobjective)\n",
      "File \u001b[0;32m~/opt/anaconda3/envs/TRIQS/lib/python3.11/site-packages/sympy/strategies/core.py:111\u001b[0m, in \u001b[0;36m<listcomp>\u001b[0;34m(.0)\u001b[0m\n\u001b[1;32m    110\u001b[0m \u001b[39mdef\u001b[39;00m \u001b[39mminrule\u001b[39m(expr):\n\u001b[0;32m--> 111\u001b[0m     \u001b[39mreturn\u001b[39;00m \u001b[39mmin\u001b[39m([rule(expr) \u001b[39mfor\u001b[39;00m rule \u001b[39min\u001b[39;00m rules], key\u001b[39m=\u001b[39mobjective)\n",
      "File \u001b[0;32m~/opt/anaconda3/envs/TRIQS/lib/python3.11/site-packages/sympy/strategies/core.py:41\u001b[0m, in \u001b[0;36mchain.<locals>.chain_rl\u001b[0;34m(expr)\u001b[0m\n\u001b[1;32m     39\u001b[0m \u001b[39mdef\u001b[39;00m \u001b[39mchain_rl\u001b[39m(expr):\n\u001b[1;32m     40\u001b[0m     \u001b[39mfor\u001b[39;00m rule \u001b[39min\u001b[39;00m rules:\n\u001b[0;32m---> 41\u001b[0m         expr \u001b[39m=\u001b[39m rule(expr)\n\u001b[1;32m     42\u001b[0m     \u001b[39mreturn\u001b[39;00m expr\n",
      "File \u001b[0;32m~/opt/anaconda3/envs/TRIQS/lib/python3.11/site-packages/sympy/simplify/fu.py:755\u001b[0m, in \u001b[0;36mTR10i\u001b[0;34m(rv)\u001b[0m\n\u001b[1;32m    751\u001b[0m             \u001b[39mbreak\u001b[39;00m\n\u001b[1;32m    753\u001b[0m     \u001b[39mreturn\u001b[39;00m rv\n\u001b[0;32m--> 755\u001b[0m \u001b[39mreturn\u001b[39;00m bottom_up(rv, f)\n",
      "File \u001b[0;32m~/opt/anaconda3/envs/TRIQS/lib/python3.11/site-packages/sympy/core/traversal.py:240\u001b[0m, in \u001b[0;36mbottom_up\u001b[0;34m(rv, F, atoms, nonbasic)\u001b[0m\n\u001b[1;32m    238\u001b[0m     \u001b[39mif\u001b[39;00m args \u001b[39m!=\u001b[39m rv\u001b[39m.\u001b[39margs:\n\u001b[1;32m    239\u001b[0m         rv \u001b[39m=\u001b[39m rv\u001b[39m.\u001b[39mfunc(\u001b[39m*\u001b[39margs)\n\u001b[0;32m--> 240\u001b[0m     rv \u001b[39m=\u001b[39m F(rv)\n\u001b[1;32m    241\u001b[0m \u001b[39melif\u001b[39;00m atoms:\n\u001b[1;32m    242\u001b[0m     rv \u001b[39m=\u001b[39m F(rv)\n",
      "File \u001b[0;32m~/opt/anaconda3/envs/TRIQS/lib/python3.11/site-packages/sympy/simplify/fu.py:750\u001b[0m, in \u001b[0;36mTR10i.<locals>.f\u001b[0;34m(rv)\u001b[0m\n\u001b[1;32m    747\u001b[0m         rv \u001b[39m=\u001b[39m Add(\u001b[39m*\u001b[39m(args \u001b[39m+\u001b[39m [Add(\u001b[39m*\u001b[39m[_f \u001b[39mfor\u001b[39;00m _f \u001b[39min\u001b[39;00m v \u001b[39mif\u001b[39;00m _f])\n\u001b[1;32m    748\u001b[0m             \u001b[39mfor\u001b[39;00m v \u001b[39min\u001b[39;00m byrad\u001b[39m.\u001b[39mvalues()]))\n\u001b[1;32m    749\u001b[0m     \u001b[39melse\u001b[39;00m:\n\u001b[0;32m--> 750\u001b[0m         rv \u001b[39m=\u001b[39m do(rv)  \u001b[39m# final pass to resolve any new inducible pairs\u001b[39;00m\n\u001b[1;32m    751\u001b[0m         \u001b[39mbreak\u001b[39;00m\n\u001b[1;32m    753\u001b[0m \u001b[39mreturn\u001b[39;00m rv\n",
      "File \u001b[0;32m~/opt/anaconda3/envs/TRIQS/lib/python3.11/site-packages/sympy/simplify/fu.py:677\u001b[0m, in \u001b[0;36mTR10i.<locals>.f.<locals>.do\u001b[0;34m(rv, first)\u001b[0m\n\u001b[1;32m    675\u001b[0m     \u001b[39mcontinue\u001b[39;00m\n\u001b[1;32m    676\u001b[0m was \u001b[39m=\u001b[39m ai \u001b[39m+\u001b[39m aj\n\u001b[0;32m--> 677\u001b[0m new \u001b[39m=\u001b[39m do(was)\n\u001b[1;32m    678\u001b[0m \u001b[39mif\u001b[39;00m new \u001b[39m!=\u001b[39m was:\n\u001b[1;32m    679\u001b[0m     args[i] \u001b[39m=\u001b[39m new  \u001b[39m# update in place\u001b[39;00m\n",
      "File \u001b[0;32m~/opt/anaconda3/envs/TRIQS/lib/python3.11/site-packages/sympy/simplify/fu.py:691\u001b[0m, in \u001b[0;36mTR10i.<locals>.f.<locals>.do\u001b[0;34m(rv, first)\u001b[0m\n\u001b[1;32m    688\u001b[0m     \u001b[39mreturn\u001b[39;00m rv\n\u001b[1;32m    690\u001b[0m \u001b[39m# two-arg Add\u001b[39;00m\n\u001b[0;32m--> 691\u001b[0m split \u001b[39m=\u001b[39m trig_split(\u001b[39m*\u001b[39margs, two\u001b[39m=\u001b[39m\u001b[39mTrue\u001b[39;00m)\n\u001b[1;32m    692\u001b[0m \u001b[39mif\u001b[39;00m \u001b[39mnot\u001b[39;00m split:\n\u001b[1;32m    693\u001b[0m     \u001b[39mreturn\u001b[39;00m rv\n",
      "File \u001b[0;32m~/opt/anaconda3/envs/TRIQS/lib/python3.11/site-packages/sympy/simplify/fu.py:1772\u001b[0m, in \u001b[0;36mtrig_split\u001b[0;34m(a, b, two)\u001b[0m\n\u001b[1;32m   1770\u001b[0m a, b \u001b[39m=\u001b[39m [Factors(i) \u001b[39mfor\u001b[39;00m i \u001b[39min\u001b[39;00m (a, b)]\n\u001b[1;32m   1771\u001b[0m ua, ub \u001b[39m=\u001b[39m a\u001b[39m.\u001b[39mnormal(b)\n\u001b[0;32m-> 1772\u001b[0m gcd \u001b[39m=\u001b[39m a\u001b[39m.\u001b[39mgcd(b)\u001b[39m.\u001b[39mas_expr()\n\u001b[1;32m   1773\u001b[0m n1 \u001b[39m=\u001b[39m n2 \u001b[39m=\u001b[39m \u001b[39m1\u001b[39m\n\u001b[1;32m   1774\u001b[0m \u001b[39mif\u001b[39;00m S\u001b[39m.\u001b[39mNegativeOne \u001b[39min\u001b[39;00m ua\u001b[39m.\u001b[39mfactors:\n",
      "File \u001b[0;32m~/opt/anaconda3/envs/TRIQS/lib/python3.11/site-packages/sympy/core/exprtools.py:760\u001b[0m, in \u001b[0;36mFactors.gcd\u001b[0;34m(self, other)\u001b[0m\n\u001b[1;32m    757\u001b[0m         \u001b[39melif\u001b[39;00m lt \u001b[39m==\u001b[39m \u001b[39mFalse\u001b[39;00m:\n\u001b[1;32m    758\u001b[0m             factors[factor] \u001b[39m=\u001b[39m other\u001b[39m.\u001b[39mfactors[factor]\n\u001b[0;32m--> 760\u001b[0m \u001b[39mreturn\u001b[39;00m Factors(factors)\n",
      "File \u001b[0;32m~/opt/anaconda3/envs/TRIQS/lib/python3.11/site-packages/sympy/core/exprtools.py:335\u001b[0m, in \u001b[0;36mFactors.__init__\u001b[0;34m(self, factors)\u001b[0m\n\u001b[1;32m    333\u001b[0m \u001b[39mif\u001b[39;00m \u001b[39misinstance\u001b[39m(factors, Factors):\n\u001b[1;32m    334\u001b[0m     factors \u001b[39m=\u001b[39m factors\u001b[39m.\u001b[39mfactors\u001b[39m.\u001b[39mcopy()\n\u001b[0;32m--> 335\u001b[0m \u001b[39melif\u001b[39;00m factors \u001b[39min\u001b[39;00m (\u001b[39mNone\u001b[39;00m, S\u001b[39m.\u001b[39mOne):\n\u001b[1;32m    336\u001b[0m     factors \u001b[39m=\u001b[39m {}\n\u001b[1;32m    337\u001b[0m \u001b[39melif\u001b[39;00m factors \u001b[39mis\u001b[39;00m S\u001b[39m.\u001b[39mZero \u001b[39mor\u001b[39;00m factors \u001b[39m==\u001b[39m \u001b[39m0\u001b[39m:\n",
      "File \u001b[0;32m~/opt/anaconda3/envs/TRIQS/lib/python3.11/site-packages/sympy/core/numbers.py:2243\u001b[0m, in \u001b[0;36mInteger.__eq__\u001b[0;34m(self, other)\u001b[0m\n\u001b[1;32m   2241\u001b[0m \u001b[39melif\u001b[39;00m \u001b[39misinstance\u001b[39m(other, Integer):\n\u001b[1;32m   2242\u001b[0m     \u001b[39mreturn\u001b[39;00m (\u001b[39mself\u001b[39m\u001b[39m.\u001b[39mp \u001b[39m==\u001b[39m other\u001b[39m.\u001b[39mp)\n\u001b[0;32m-> 2243\u001b[0m \u001b[39mreturn\u001b[39;00m Rational\u001b[39m.\u001b[39m\u001b[39m__eq__\u001b[39m(\u001b[39mself\u001b[39m, other)\n",
      "File \u001b[0;32m~/opt/anaconda3/envs/TRIQS/lib/python3.11/site-packages/sympy/core/numbers.py:1869\u001b[0m, in \u001b[0;36mRational.__eq__\u001b[0;34m(self, other)\u001b[0m\n\u001b[1;32m   1867\u001b[0m \u001b[39mdef\u001b[39;00m \u001b[39m__eq__\u001b[39m(\u001b[39mself\u001b[39m, other):\n\u001b[1;32m   1868\u001b[0m     \u001b[39mtry\u001b[39;00m:\n\u001b[0;32m-> 1869\u001b[0m         other \u001b[39m=\u001b[39m _sympify(other)\n\u001b[1;32m   1870\u001b[0m     \u001b[39mexcept\u001b[39;00m SympifyError:\n\u001b[1;32m   1871\u001b[0m         \u001b[39mreturn\u001b[39;00m \u001b[39mNotImplemented\u001b[39m\n",
      "File \u001b[0;32m~/opt/anaconda3/envs/TRIQS/lib/python3.11/site-packages/sympy/core/sympify.py:529\u001b[0m, in \u001b[0;36m_sympify\u001b[0;34m(a)\u001b[0m\n\u001b[1;32m    503\u001b[0m \u001b[39mdef\u001b[39;00m \u001b[39m_sympify\u001b[39m(a):\n\u001b[1;32m    504\u001b[0m \u001b[39m    \u001b[39m\u001b[39m\"\"\"\u001b[39;00m\n\u001b[1;32m    505\u001b[0m \u001b[39m    Short version of :func:`~.sympify` for internal usage for ``__add__`` and\u001b[39;00m\n\u001b[1;32m    506\u001b[0m \u001b[39m    ``__eq__`` methods where it is ok to allow some things (like Python\u001b[39;00m\n\u001b[0;32m   (...)\u001b[0m\n\u001b[1;32m    527\u001b[0m \n\u001b[1;32m    528\u001b[0m \u001b[39m    \"\"\"\u001b[39;00m\n\u001b[0;32m--> 529\u001b[0m     \u001b[39mreturn\u001b[39;00m sympify(a, strict\u001b[39m=\u001b[39m\u001b[39mTrue\u001b[39;00m)\n",
      "File \u001b[0;32m~/opt/anaconda3/envs/TRIQS/lib/python3.11/site-packages/sympy/core/sympify.py:384\u001b[0m, in \u001b[0;36msympify\u001b[0;34m(a, locals, convert_xor, strict, rational, evaluate)\u001b[0m\n\u001b[1;32m    382\u001b[0m         conv \u001b[39m=\u001b[39m _sympy_converter\u001b[39m.\u001b[39mget(superclass)\n\u001b[1;32m    383\u001b[0m     \u001b[39mif\u001b[39;00m conv \u001b[39mis\u001b[39;00m \u001b[39mnot\u001b[39;00m \u001b[39mNone\u001b[39;00m:\n\u001b[0;32m--> 384\u001b[0m         \u001b[39mreturn\u001b[39;00m conv(a)\n\u001b[1;32m    386\u001b[0m \u001b[39mif\u001b[39;00m \u001b[39mcls\u001b[39m \u001b[39mis\u001b[39;00m \u001b[39mtype\u001b[39m(\u001b[39mNone\u001b[39;00m):\n\u001b[1;32m    387\u001b[0m     \u001b[39mif\u001b[39;00m strict:\n",
      "File \u001b[0;32m~/opt/anaconda3/envs/TRIQS/lib/python3.11/site-packages/sympy/core/containers.py:332\u001b[0m, in \u001b[0;36m<lambda>\u001b[0;34m(d)\u001b[0m\n\u001b[1;32m    329\u001b[0m     \u001b[39m__hash__\u001b[39m : Callable[[Basic], Any] \u001b[39m=\u001b[39m Basic\u001b[39m.\u001b[39m\u001b[39m__hash__\u001b[39m\n\u001b[1;32m    331\u001b[0m \u001b[39m# this handles dict, defaultdict, OrderedDict\u001b[39;00m\n\u001b[0;32m--> 332\u001b[0m _sympy_converter[\u001b[39mdict\u001b[39m] \u001b[39m=\u001b[39m \u001b[39mlambda\u001b[39;00m d: Dict(\u001b[39m*\u001b[39md\u001b[39m.\u001b[39mitems())\n\u001b[1;32m    334\u001b[0m \u001b[39mclass\u001b[39;00m \u001b[39mOrderedSet\u001b[39;00m(MutableSet):\n\u001b[1;32m    335\u001b[0m     \u001b[39mdef\u001b[39;00m \u001b[39m__init__\u001b[39m(\u001b[39mself\u001b[39m, iterable\u001b[39m=\u001b[39m\u001b[39mNone\u001b[39;00m):\n",
      "File \u001b[0;32m~/opt/anaconda3/envs/TRIQS/lib/python3.11/site-packages/sympy/core/containers.py:263\u001b[0m, in \u001b[0;36mDict.__new__\u001b[0;34m(cls, *args)\u001b[0m\n\u001b[1;32m    261\u001b[0m     \u001b[39mraise\u001b[39;00m \u001b[39mTypeError\u001b[39;00m(\u001b[39m'\u001b[39m\u001b[39mPass Dict args as Dict((k1, v1), ...) or Dict(\u001b[39m\u001b[39m{\u001b[39m\u001b[39mk1: v1, ...})\u001b[39m\u001b[39m'\u001b[39m)\n\u001b[1;32m    262\u001b[0m elements \u001b[39m=\u001b[39m \u001b[39mfrozenset\u001b[39m(items)\n\u001b[0;32m--> 263\u001b[0m obj \u001b[39m=\u001b[39m Basic\u001b[39m.\u001b[39m\u001b[39m__new__\u001b[39m(\u001b[39mcls\u001b[39m, \u001b[39m*\u001b[39mordered(items))\n\u001b[1;32m    264\u001b[0m obj\u001b[39m.\u001b[39melements \u001b[39m=\u001b[39m elements\n\u001b[1;32m    265\u001b[0m obj\u001b[39m.\u001b[39m_dict \u001b[39m=\u001b[39m \u001b[39mdict\u001b[39m(items)  \u001b[39m# In case Tuple decides it wants to sympify\u001b[39;00m\n",
      "File \u001b[0;32m~/opt/anaconda3/envs/TRIQS/lib/python3.11/site-packages/sympy/core/sorting.py:310\u001b[0m, in \u001b[0;36mordered\u001b[0;34m(seq, keys, default, warn)\u001b[0m\n\u001b[1;32m    307\u001b[0m         \u001b[39mif\u001b[39;00m \u001b[39mlen\u001b[39m(u) \u001b[39m>\u001b[39m \u001b[39m1\u001b[39m:\n\u001b[1;32m    308\u001b[0m             \u001b[39mraise\u001b[39;00m \u001b[39mValueError\u001b[39;00m(\n\u001b[1;32m    309\u001b[0m                 \u001b[39m'\u001b[39m\u001b[39mnot enough keys to break ties: \u001b[39m\u001b[39m%s\u001b[39;00m\u001b[39m'\u001b[39m \u001b[39m%\u001b[39m u)\n\u001b[0;32m--> 310\u001b[0m \u001b[39myield from\u001b[39;00m value\n",
      "File \u001b[0;32m~/opt/anaconda3/envs/TRIQS/lib/python3.11/site-packages/sympy/core/sorting.py:292\u001b[0m, in \u001b[0;36mordered\u001b[0;34m(seq, keys, default, warn)\u001b[0m\n\u001b[1;32m    290\u001b[0m         keys \u001b[39m=\u001b[39m []\n\u001b[1;32m    291\u001b[0m     \u001b[39mfor\u001b[39;00m a \u001b[39min\u001b[39;00m seq:\n\u001b[0;32m--> 292\u001b[0m         d[f(a)]\u001b[39m.\u001b[39mappend(a)\n\u001b[1;32m    293\u001b[0m \u001b[39melse\u001b[39;00m:\n\u001b[1;32m    294\u001b[0m     \u001b[39mif\u001b[39;00m \u001b[39mnot\u001b[39;00m default:\n",
      "File \u001b[0;32m~/opt/anaconda3/envs/TRIQS/lib/python3.11/site-packages/sympy/core/sorting.py:187\u001b[0m, in \u001b[0;36m_nodes\u001b[0;34m(e)\u001b[0m\n\u001b[1;32m    180\u001b[0m \u001b[39mdef\u001b[39;00m \u001b[39m_nodes\u001b[39m(e):\n\u001b[1;32m    181\u001b[0m \u001b[39m    \u001b[39m\u001b[39m\"\"\"\u001b[39;00m\n\u001b[1;32m    182\u001b[0m \u001b[39m    A helper for ordered() which returns the node count of ``e`` which\u001b[39;00m\n\u001b[1;32m    183\u001b[0m \u001b[39m    for Basic objects is the number of Basic nodes in the expression tree\u001b[39;00m\n\u001b[1;32m    184\u001b[0m \u001b[39m    but for other objects is 1 (unless the object is an iterable or dict\u001b[39;00m\n\u001b[1;32m    185\u001b[0m \u001b[39m    for which the sum of nodes is returned).\u001b[39;00m\n\u001b[1;32m    186\u001b[0m \u001b[39m    \"\"\"\u001b[39;00m\n\u001b[0;32m--> 187\u001b[0m     \u001b[39mfrom\u001b[39;00m \u001b[39m.\u001b[39;00m\u001b[39mbasic\u001b[39;00m \u001b[39mimport\u001b[39;00m Basic\n\u001b[1;32m    188\u001b[0m     \u001b[39mfrom\u001b[39;00m \u001b[39m.\u001b[39;00m\u001b[39mfunction\u001b[39;00m \u001b[39mimport\u001b[39;00m Derivative\n\u001b[1;32m    190\u001b[0m     \u001b[39mif\u001b[39;00m \u001b[39misinstance\u001b[39m(e, Basic):\n",
      "File \u001b[0;32m<frozen importlib._bootstrap>:409\u001b[0m, in \u001b[0;36mparent\u001b[0;34m(self)\u001b[0m\n",
      "\u001b[0;31mKeyboardInterrupt\u001b[0m: "
     ]
    }
   ],
   "source": [
    "# print(sympyfy(w90_triqs, False)) # outputs the analytical form\n",
    "print(sympyfy(w90_triqs)) # outputs the numerical form"
   ]
  },
  {
   "cell_type": "code",
   "execution_count": 15,
   "id": "d92ec6a5-8308-488a-a0f2-bbf2705476cc",
   "metadata": {},
   "outputs": [],
   "source": [
    "# import triqs.lattice.utils\n",
    "# from triqs.lattice.tight_binding import TBLattice\n",
    "from triqs.lattice.utils import TB_from_pythTB\n",
    "tb_triqs = TB_from_pythTB(w90_model)\n",
    "# print(tb_triqs)\n",
    "\n",
    "# print('-------See the TRIQS tight-binding object below------')\n",
    "\n",
    "# for key in tb_triqs.hoppings.keys():\n",
    "#     print(key)\n",
    "#     print(tb_triqs.hoppings[key].real)"
   ]
  },
  {
   "cell_type": "code",
   "execution_count": 17,
   "id": "df6f8872",
   "metadata": {},
   "outputs": [
    {
     "name": "stdout",
     "output_type": "stream",
     "text": [
      "[[-1.002632*cos(3.939404532*kz) - 0.124416*cos(7.878809064*kz) + 0.0183\n",
      "  0.056436*exp(I*(-1.762070113*kx + 7.996106593*ky)) + 0.056434*exp(I*(-1.762070113*kx + 7.996106593*ky + 3.939404532*kz))]\n",
      " [0.056436*exp(I*(1.762070113*kx - 7.996106593*ky)) + 0.056434*exp(I*(1.762070113*kx - 7.996106593*ky - 3.939404532*kz))\n",
      "  -0.904748*cos(3.939404532*kz) - 0.128046*cos(7.878809064*kz) - 0.1302]]\n"
     ]
    }
   ],
   "source": [
    "from triqs.lattice.tight_binding import TBLattice\n",
    "import sympy as sp\n",
    "\n",
    "e0 = 0.0183\n",
    "e1 = -0.1302\n",
    "\n",
    "t1 = -0.501316\n",
    "t2 = -0.452374\n",
    "\n",
    "t3 = -0.062208\n",
    "t4 = -0.064023\n",
    "\n",
    "t5 = 0.056434\n",
    "t6 = 0.056436\n",
    "\n",
    "hop = {\n",
    "        (0, 0, 0)   : [[ e0, 0], [0, e1]],\n",
    "        (0, 0, 1)   : [[ t1, 0], [0, t2]],\n",
    "        (0, 0, -1)  : [[ t1, 0], [0, t2]],\n",
    "        (0, 0, 2)   : [[ t3, 0], [0, t4]],\n",
    "        (0, 0, -2)  : [[ t3, 0], [0, t4]],\n",
    "        (1, 0, -1)  : [[ 0, t5], [0, 0]],\n",
    "        (-1, 0, 1)  : [[ 0, 0], [t5, 0]],\n",
    "        (-1, 0, 0)  : [[ 0, 0], [t6, 0]],\n",
    "        (1, 0, 0)   : [[ 0, t6], [0, 0]]\n",
    "      }\n",
    "\n",
    "\n",
    "L = TBLattice(units = [(1.7621, -7.9961, 0.) , (1.7621, 7.9961, 0.), (0., 0., 3.9394)], hoppings = hop,                     \n",
    "              orbital_positions = [(-0.0672, 1.0672, 0.25), (-0.9361, 0.9361, 0.75)])\n",
    "\n",
    "\n",
    "I = sp.I\n",
    "kx, ky, kz = sp.symbols(\"kx ky kz\")\n",
    "k = sp.Matrix([kx, ky, kz])\n",
    "norb = 2\n",
    "\n",
    "#fourier transform the hoppings to find the 8x8 noninteracting H(k) in the Nambu site basis\n",
    "mx = 1 #max hopping distance in x direction                                        \n",
    "my = 1 #max hopping distance in y direction                                        \n",
    "mz = 2 #max hopping distance in y direction                                        \n",
    "nx = 2*mx+1                                                                        \n",
    "ny = 2*my+1\n",
    "nz = 2*mz+1\n",
    "\n",
    "# print(L.hopping_dict())\n",
    "\n",
    "\n",
    "Hrij = np.zeros((nx, ny, nz, norb, norb), dtype = np.complex_)\n",
    "for r in L.hopping_dict():\n",
    "    rxind = r[0] + mx\n",
    "    ryind = r[1] + my\n",
    "    rzind = r[2] + mz\n",
    "    Hrij[rxind, ryind, rzind] = L.hopping_dict()[r]\n",
    "\n",
    "Hexp = np.empty_like(Hrij, dtype = sp.exp)\n",
    "for xi in range(nx):\n",
    "    for yi in range(ny):\n",
    "        for zi in range(nz):\n",
    "            r = np.array([xi-mx, yi-my, zi-mz])\n",
    "            r = lat.T.dot(r)\n",
    "            eikr = sp.exp(-I*k.dot(r))\n",
    "            Hexp[xi, yi, zi, :, :] = eikr\n",
    "Hkrij = Hrij * Hexp\n",
    "Hk = np.sum(Hkrij, axis = (0,1,2))\n",
    "for i, j in itp(range(norb), repeat=2):\n",
    "    Hk[i, j] = Hk[i, j].rewrite(sp.cos).simplify()\n",
    "print(Hk)"
   ]
  },
  {
   "cell_type": "code",
   "execution_count": 13,
   "id": "212bc6a1",
   "metadata": {},
   "outputs": [
    {
     "name": "stdout",
     "output_type": "stream",
     "text": [
      "[[ 1.76207011 -7.99610659  0.        ]\n",
      " [ 1.76207011  7.99610659  0.        ]\n",
      " [ 0.          0.          3.93940453]]\n",
      "[[ 1.78289878  1.78289878  0.        ]\n",
      " [-0.39289029  0.39289029  0.        ]\n",
      " [ 0.          0.          1.59495814]]\n"
     ]
    },
    {
     "ename": "FileNotFoundError",
     "evalue": "[Errno 2] No such file or directory: '/mnt/ceph/users/sbeck/materials/srcacuo/sccuo2/wan_conv/sccuo2_band.kpt'",
     "output_type": "error",
     "traceback": [
      "\u001b[0;31m---------------------------------------------------------------------------\u001b[0m",
      "\u001b[0;31mFileNotFoundError\u001b[0m                         Traceback (most recent call last)",
      "Cell \u001b[0;32mIn[13], line 7\u001b[0m\n\u001b[1;32m      3\u001b[0m \u001b[38;5;28mprint\u001b[39m(Ks)\n\u001b[1;32m      5\u001b[0m subs \u001b[38;5;241m=\u001b[39m \u001b[38;5;241m0\u001b[39m\n\u001b[0;32m----> 7\u001b[0m \u001b[38;5;28;01mwith\u001b[39;00m \u001b[38;5;28mopen\u001b[39m(\u001b[38;5;124m\"\u001b[39m\u001b[38;5;124m/mnt/ceph/users/sbeck/materials/srcacuo/sccuo2/wan_conv/sccuo2_band.kpt\u001b[39m\u001b[38;5;124m\"\u001b[39m, \u001b[38;5;124m'\u001b[39m\u001b[38;5;124mr\u001b[39m\u001b[38;5;124m'\u001b[39m) \u001b[38;5;28;01mas\u001b[39;00m A:\n\u001b[1;32m      8\u001b[0m     lines \u001b[38;5;241m=\u001b[39m A\u001b[38;5;241m.\u001b[39mreadlines()[\u001b[38;5;241m1\u001b[39m:]\n\u001b[1;32m     10\u001b[0m ks \u001b[38;5;241m=\u001b[39m []\n",
      "File \u001b[0;32m~/opt/anaconda3/envs/TRIQS/lib/python3.11/site-packages/IPython/core/interactiveshell.py:284\u001b[0m, in \u001b[0;36m_modified_open\u001b[0;34m(file, *args, **kwargs)\u001b[0m\n\u001b[1;32m    277\u001b[0m \u001b[38;5;28;01mif\u001b[39;00m file \u001b[38;5;129;01min\u001b[39;00m {\u001b[38;5;241m0\u001b[39m, \u001b[38;5;241m1\u001b[39m, \u001b[38;5;241m2\u001b[39m}:\n\u001b[1;32m    278\u001b[0m     \u001b[38;5;28;01mraise\u001b[39;00m \u001b[38;5;167;01mValueError\u001b[39;00m(\n\u001b[1;32m    279\u001b[0m         \u001b[38;5;124mf\u001b[39m\u001b[38;5;124m\"\u001b[39m\u001b[38;5;124mIPython won\u001b[39m\u001b[38;5;124m'\u001b[39m\u001b[38;5;124mt let you open fd=\u001b[39m\u001b[38;5;132;01m{\u001b[39;00mfile\u001b[38;5;132;01m}\u001b[39;00m\u001b[38;5;124m by default \u001b[39m\u001b[38;5;124m\"\u001b[39m\n\u001b[1;32m    280\u001b[0m         \u001b[38;5;124m\"\u001b[39m\u001b[38;5;124mas it is likely to crash IPython. If you know what you are doing, \u001b[39m\u001b[38;5;124m\"\u001b[39m\n\u001b[1;32m    281\u001b[0m         \u001b[38;5;124m\"\u001b[39m\u001b[38;5;124myou can use builtins\u001b[39m\u001b[38;5;124m'\u001b[39m\u001b[38;5;124m open.\u001b[39m\u001b[38;5;124m\"\u001b[39m\n\u001b[1;32m    282\u001b[0m     )\n\u001b[0;32m--> 284\u001b[0m \u001b[38;5;28;01mreturn\u001b[39;00m io_open(file, \u001b[38;5;241m*\u001b[39margs, \u001b[38;5;241m*\u001b[39m\u001b[38;5;241m*\u001b[39mkwargs)\n",
      "\u001b[0;31mFileNotFoundError\u001b[0m: [Errno 2] No such file or directory: '/mnt/ceph/users/sbeck/materials/srcacuo/sccuo2/wan_conv/sccuo2_band.kpt'"
     ]
    }
   ],
   "source": [
    "Ks = 2*np.pi*np.linalg.inv(lat)\n",
    "print(lat)\n",
    "print(Ks)\n",
    "\n",
    "subs = 0\n",
    "\n",
    "with open(\"/mnt/ceph/users/sbeck/materials/srcacuo/sccuo2/wan_conv/sccuo2_band.kpt\", 'r') as A:\n",
    "    lines = A.readlines()[1:]\n",
    "\n",
    "ks = []\n",
    "for k in range(len(lines)):\n",
    "    l = lines[k].split()\n",
    "    ks.append([float(l[0]), float(l[1]), float(l[2])])\n",
    "    \n",
    "# path=np.matrix([[0.0,0.0,0.0],[0.0,0.0,0.5],[0.25,0.25,0.5],[0.25,0.25,0.0],[0.0, 0.0, 0.0],[-0.25,0.25,0.0]])\n",
    "# ks = []\n",
    "# nk = 25\n",
    "# for k in range(len(path)-1):\n",
    "#     p = path[k+1] - path[k]\n",
    "#     for i in range(nk):\n",
    "#         ks.append([path[k, 0]+p[0, 0]/nk*i, path[k, 1]+p[0, 1]/nk*i, path[k, 2]+p[0, 2]/nk*i])\n",
    "#         # print(ks[-1])\n",
    "# ks.append([path[-1, 0], path[-1, 1], path[-1, 2]])\n",
    "# # print(ks[-1])\n",
    "\n",
    "# Hk2 = [[], [], []]\n",
    "# for ki, k in enumerate(ks):\n",
    "#     new_k = Ks @ np.matrix(k).T\n",
    "#     Hk2_tmp = 0*Hk\n",
    "#     for i, j in itp(range(norb), repeat=2):\n",
    "#         Hk2_tmp[i, j] = Hk[i, j].evalf(5, subs={\"kx\":new_k[0, 0], \"ky\":new_k[1, 0], \"kz\":new_k[2, 0]})\n",
    "#     eigs = np.linalg.eigvals(Hk2_tmp.astype(complex))\n",
    "#     Hk2[0].append(ki)\n",
    "#     Hk2[1].append(eigs[0])\n",
    "#     Hk2[2].append(eigs[1])\n",
    "\n",
    "a = 3.52414\n",
    "b = 15.99221\n",
    "c = 3.93940\n",
    "\n",
    "e1 = 0.0183\n",
    "e2 = -0.1302\n",
    "\n",
    "t11 = -0.501316\n",
    "t22 = -0.452374\n",
    "\n",
    "tp11 = -0.062208\n",
    "tp22 = -0.064023\n",
    "\n",
    "t12 = 0.056434\n",
    "\n",
    "Hk2 = [[], [], []]\n",
    "for ki, k in enumerate(ks):\n",
    "    new_k = Ks @ np.matrix(k).T\n",
    "    \n",
    "    # print(new_k. T)\n",
    "    \n",
    "    Hk2_tmp = 0*Hk\n",
    "    \n",
    "    Hk2_tmp[0, 0] = 2*t11*np.cos(c*new_k[2]) + 2*tp11*np.cos(2*c*new_k[2]) + e1\n",
    "    # Hk2_tmp[0, 1] = t12*np.exp(-1j*(a/2*new_k[0]-b/2*new_k[1]))*(1+np.exp( 1j*c*new_k[2]))\n",
    "    # Hk2_tmp[1, 0] = t12*np.exp( 1j*(a/2*new_k[0]-b/2*new_k[1]))*(1+np.exp(-1j*c*new_k[2]))\n",
    "    Hk2_tmp[1, 1] = 2*t22*np.cos(c*new_k[2]) + 2*tp22*np.cos(2*c*new_k[2]) + e2\n",
    "    \n",
    "    # Hk2_tmp[0, 1] = t12*(1+np.exp( 1j*c*new_k[2]))\n",
    "    # Hk2_tmp[1, 0] = t12*(1+np.exp(-1j*c*new_k[2]))\n",
    "    \n",
    "    Hk2_tmp[0, 1] = t12*(1+np.exp( 1j*c*new_k[2]))\n",
    "    Hk2_tmp[1, 0] = 2*t12*np.cos(c*new_k[2]/2)\n",
    "    \n",
    "    eigs = np.linalg.eigvals(Hk2_tmp.astype(complex))\n",
    "    Hk2[0].append(ki)\n",
    "    Hk2[1].append(eigs[0])\n",
    "    Hk2[2].append(eigs[1])\n",
    "    \n",
    "plt.plot(Hk2[0], Hk2[1])\n",
    "plt.plot(Hk2[0], Hk2[2])\n",
    "\n"
   ]
  },
  {
   "cell_type": "code",
   "execution_count": 14,
   "id": "4db2a363",
   "metadata": {},
   "outputs": [
    {
     "ename": "FileNotFoundError",
     "evalue": "[Errno 2] No such file or directory: '/mnt/ceph/users/sbeck/materials/srcacuo/sccuo2/wan_conv//sccuo2.win'",
     "output_type": "error",
     "traceback": [
      "\u001b[0;31m---------------------------------------------------------------------------\u001b[0m",
      "\u001b[0;31mFileNotFoundError\u001b[0m                         Traceback (most recent call last)",
      "Cell \u001b[0;32mIn[14], line 1\u001b[0m\n\u001b[0;32m----> 1\u001b[0m w90_input \u001b[39m=\u001b[39m w90(\u001b[39m'\u001b[39m\u001b[39m/mnt/ceph/users/sbeck/materials/srcacuo/sccuo2/wan_conv/\u001b[39m\u001b[39m'\u001b[39m, \u001b[39m'\u001b[39m\u001b[39msccuo2\u001b[39m\u001b[39m'\u001b[39m)\n\u001b[1;32m      2\u001b[0m fermi_ev \u001b[39m=\u001b[39m \u001b[39m9.6082\u001b[39m\n\u001b[1;32m      4\u001b[0m w90_model \u001b[39m=\u001b[39m w90_input\u001b[39m.\u001b[39mmodel(zero_energy\u001b[39m=\u001b[39mfermi_ev, min_hopping_norm\u001b[39m=\u001b[39m\u001b[39m0.05\u001b[39m, max_distance\u001b[39m=\u001b[39m\u001b[39mNone\u001b[39;00m)\n",
      "File \u001b[0;32m~/opt/anaconda3/envs/TRIQS/lib/python3.11/site-packages/pythtb.py:3336\u001b[0m, in \u001b[0;36mw90.__init__\u001b[0;34m(self, path, prefix)\u001b[0m\n\u001b[1;32m   3333\u001b[0m \u001b[39mself\u001b[39m\u001b[39m.\u001b[39mprefix\u001b[39m=\u001b[39mprefix\n\u001b[1;32m   3335\u001b[0m \u001b[39m# read in lattice_vectors\u001b[39;00m\n\u001b[0;32m-> 3336\u001b[0m f\u001b[39m=\u001b[39m\u001b[39mopen\u001b[39m(\u001b[39mself\u001b[39m\u001b[39m.\u001b[39mpath\u001b[39m+\u001b[39m\u001b[39m\"\u001b[39m\u001b[39m/\u001b[39m\u001b[39m\"\u001b[39m\u001b[39m+\u001b[39m\u001b[39mself\u001b[39m\u001b[39m.\u001b[39mprefix\u001b[39m+\u001b[39m\u001b[39m\"\u001b[39m\u001b[39m.win\u001b[39m\u001b[39m\"\u001b[39m,\u001b[39m\"\u001b[39m\u001b[39mr\u001b[39m\u001b[39m\"\u001b[39m)\n\u001b[1;32m   3337\u001b[0m ln\u001b[39m=\u001b[39mf\u001b[39m.\u001b[39mreadlines()\n\u001b[1;32m   3338\u001b[0m f\u001b[39m.\u001b[39mclose()\n",
      "\u001b[0;31mFileNotFoundError\u001b[0m: [Errno 2] No such file or directory: '/mnt/ceph/users/sbeck/materials/srcacuo/sccuo2/wan_conv//sccuo2.win'"
     ]
    }
   ],
   "source": [
    "w90_input = w90('/mnt/ceph/users/sbeck/materials/srcacuo/sccuo2/wan_conv/', 'sccuo2')\n",
    "fermi_ev = 9.6082\n",
    "\n",
    "w90_model = w90_input.model(zero_energy=fermi_ev, min_hopping_norm=0.05, max_distance=None)\n",
    "# w90_model = w90_input.model(zero_energy=fermi_ev, min_hopping_norm=0.0, max_distance=3.8586)\n",
    "# w90_model = w90_input.model(zero_energy=fermi_ev)\n",
    "(dist, ham) = w90_input.dist_hop()\n",
    "(w90_kpt, w90_evals) = w90_input.w90_bands_consistency()\n",
    "int_evals = w90_model.solve_all(w90_kpt)\n",
    "\n",
    "# solve model\n",
    "evals = w90_model.solve_all(w90_kpt)\n",
    "\n",
    "fig, ax = plt.subplots(dpi=150)\n",
    "\n",
    "for i in range(w90_evals.shape[0]):\n",
    "    ax.plot(list(range(w90_evals.shape[1])), w90_evals[i]-fermi_ev, \"k-\", zorder=-100)\n",
    "\n",
    "for i in range(int_evals.shape[0]):\n",
    "    ax.plot(list(range(int_evals.shape[1])), int_evals[i], \"r-\", zorder=-50)\n",
    "\n",
    "ax.plot(Hk2[0], Hk2[1], color=\"blue\", linestyle=':')\n",
    "ax.plot(Hk2[0], Hk2[2], color=\"blue\", linestyle=':')\n",
    "    \n",
    "ax.set_xlim(0, int_evals.shape[1]-1)\n",
    "ax.set_xlabel(\"K-path from Wannier90\")\n",
    "ax.set_ylabel(\"Band energy (eV)\")"
   ]
  },
  {
   "cell_type": "code",
   "execution_count": null,
   "id": "4fba62ed",
   "metadata": {},
   "outputs": [],
   "source": []
  }
 ],
 "metadata": {
  "kernelspec": {
   "display_name": "TRIQS",
   "language": "python",
   "name": "triqs"
  },
  "language_info": {
   "codemirror_mode": {
    "name": "ipython",
    "version": 3
   },
   "file_extension": ".py",
   "mimetype": "text/x-python",
   "name": "python",
   "nbconvert_exporter": "python",
   "pygments_lexer": "ipython3",
   "version": "3.11.4"
  }
 },
 "nbformat": 4,
 "nbformat_minor": 5
}
