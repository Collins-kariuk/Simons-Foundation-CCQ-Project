{
 "cells": [
  {
   "cell_type": "code",
   "execution_count": 1,
   "id": "ccd756f3-44ee-4f2f-8f4c-ba06c91a888c",
   "metadata": {},
   "outputs": [],
   "source": [
    "%matplotlib inline\n",
    "from IPython.display import display\n",
    "from IPython.display import Image\n",
    "import sys\n",
    "import math\n",
    "import numpy as np\n",
    "import argparse\n",
    "import os\n",
    "import shutil\n",
    "import scipy\n",
    "import re\n",
    "import matplotlib.pyplot as plt\n",
    "import seaborn as sns\n",
    "from mpl_toolkits.mplot3d.axes3d import Axes3D\n",
    "from matplotlib import cm, colors\n",
    "from scipy import integrate\n",
    "import scipy.constants as cst\n",
    "import h5py\n",
    "from itertools import product as itp\n",
    "from pythtb import *"
   ]
  },
  {
   "cell_type": "code",
   "execution_count": 2,
   "id": "7ca51073-3d72-4058-bfaf-ffa2154937cd",
   "metadata": {},
   "outputs": [],
   "source": [
    "# # the path to read the input\n",
    "# w90_input = w90('/Users/munenekariuki/Downloads/Simons_Foundation_Internship/Tight Binding Model/Tight Binding Model Examples/tb_analytic', \n",
    "#                 'sccuo2')\n",
    "# # the cutoff Fermi energy\n",
    "# fermi_ev = 9.6082\n",
    "\n",
    "\n",
    "# # RED - our self-defined model where we set our zero energy, minimum hopping ampltide, and maximum distance we'd like to consider\n",
    "# w90_model = w90_input.model(zero_energy=fermi_ev, min_hopping_norm=0.05, max_distance=None)\n",
    "# (dist, ham) = w90_input.dist_hop()\n",
    "\n",
    "\n",
    "# # corresponds to the BLACK line\n",
    "# # Returns\n",
    "# # - k-points reduced coordinates used in the interpolation in Wannier90 code\n",
    "# # - energies interpolated by Wannier90 in eV.\n",
    "# (w90_kpt, w90_evals) = w90_input.w90_bands_consistency()\n",
    "\n",
    "\n",
    "# # corresponds to the red line\n",
    "# int_evals = w90_model.solve_all(w90_kpt)\n",
    "\n",
    "# # solve model\n",
    "# # evals = w90_model.solve_all(w90_kpt)\n",
    "\n",
    "# # fig, ax = plt.subplots(dpi=150)\n",
    "\n",
    "# # for i in range(w90_evals.shape[0]):\n",
    "# #     ax.plot(list(range(w90_evals.shape[1])), w90_evals[i]-fermi_ev, \"k-\", zorder=-100)\n",
    "\n",
    "# # for i in range(int_evals.shape[0]):\n",
    "# #     ax.plot(list(range(int_evals.shape[1])), int_evals[i], \"r-\", zorder=-50)\n",
    "\n",
    "# # ax.set_xlim(0, int_evals.shape[1]-1)\n",
    "# # ax.set_xlabel(\"K-path from Wannier90\")\n",
    "# # ax.set_ylabel(\"Band energy (eV)\")"
   ]
  },
  {
   "cell_type": "code",
   "execution_count": 4,
   "id": "9410db2f-bdc6-43ec-822c-46871544909e",
   "metadata": {},
   "outputs": [
    {
     "ename": "NameError",
     "evalue": "name 'w90_model' is not defined",
     "output_type": "error",
     "traceback": [
      "\u001b[0;31m---------------------------------------------------------------------------\u001b[0m",
      "\u001b[0;31mNameError\u001b[0m                                 Traceback (most recent call last)",
      "Cell \u001b[0;32mIn[4], line 1\u001b[0m\n\u001b[0;32m----> 1\u001b[0m w90_model\u001b[39m.\u001b[39mdisplay()\n",
      "\u001b[0;31mNameError\u001b[0m: name 'w90_model' is not defined"
     ]
    }
   ],
   "source": [
    "w90_model.display()"
   ]
  },
  {
   "cell_type": "code",
   "execution_count": 18,
   "id": "41496cc0",
   "metadata": {},
   "outputs": [],
   "source": [
    "# (fig, ax) = w90_model.visualize(0, 1)\n",
    "# ax.set_title(\"Title goes here\")\n",
    "# fig.savefig(\"model.pdf\")"
   ]
  },
  {
   "cell_type": "code",
   "execution_count": 19,
   "id": "ecb5ad21-7ea0-4731-99a8-0871f86b7576",
   "metadata": {},
   "outputs": [
    {
     "name": "stdout",
     "output_type": "stream",
     "text": [
      "{'_dim_k': 3, '_dim_r': 3, '_lat': array([[ 1.76207011, -7.99610659,  0.        ],\n",
      "       [ 1.76207011,  7.99610659,  0.        ],\n",
      "       [ 0.        ,  0.        ,  3.93940453]]), '_orb': array([[-0.06720294,  1.06720298,  0.24999892],\n",
      "       [-0.93605725,  0.93605725,  0.75000126]]), '_norb': 2, '_per': [0, 1, 2], '_nspin': 1, '_assume_position_operator_diagonal': False, '_nsta': 2, '_site_energies': array([ 0.018272, -0.130246]), '_site_energies_specified': array([ True,  True]), '_hoppings': [[(-0.501316+0j), 0, 0, array([0, 0, 1])], [(-0.452374+0j), 1, 1, array([0, 0, 1])], [(-0.062208+0j), 0, 0, array([0, 0, 2])], [(-0.064023+0j), 1, 1, array([0, 0, 2])], [(0.056434+0j), 0, 1, array([ 1,  0, -1])], [(0.056436+0j), 0, 1, array([1, 0, 0])]]}\n"
     ]
    }
   ],
   "source": [
    "print(w90_model.__dict__)"
   ]
  },
  {
   "cell_type": "code",
   "execution_count": 20,
   "id": "6cf4914f",
   "metadata": {},
   "outputs": [
    {
     "name": "stdout",
     "output_type": "stream",
     "text": [
      "[[-0.06720294  1.06720298  0.24999892]\n",
      " [-0.93605725  0.93605725  0.75000126]]\n"
     ]
    }
   ],
   "source": [
    "orbs = np.matrix(w90_model._orb)\n",
    "print(orbs)"
   ]
  },
  {
   "cell_type": "code",
   "execution_count": 21,
   "id": "f3b4f172",
   "metadata": {},
   "outputs": [
    {
     "name": "stdout",
     "output_type": "stream",
     "text": [
      "[[ 1.76207011 -7.99610659  0.        ]\n",
      " [ 1.76207011  7.99610659  0.        ]\n",
      " [ 0.          0.          3.93940453]]\n"
     ]
    }
   ],
   "source": [
    "lat = np.matrix(w90_model._lat)\n",
    "print(lat)"
   ]
  },
  {
   "cell_type": "code",
   "execution_count": 22,
   "id": "a9b22f45",
   "metadata": {},
   "outputs": [
    {
     "name": "stdout",
     "output_type": "stream",
     "text": [
      "[[(-0.501316+0j), 0, 0, array([0, 0, 1])], [(-0.452374+0j), 1, 1, array([0, 0, 1])], [(-0.062208+0j), 0, 0, array([0, 0, 2])], [(-0.064023+0j), 1, 1, array([0, 0, 2])], [(0.056434+0j), 0, 1, array([ 1,  0, -1])], [(0.056436+0j), 0, 1, array([1, 0, 0])]]\n"
     ]
    }
   ],
   "source": [
    "print(w90_model._hoppings)"
   ]
  },
  {
   "cell_type": "code",
   "execution_count": 23,
   "id": "e45e123b",
   "metadata": {},
   "outputs": [],
   "source": [
    "# from mycolorpy import colorlist as mcp\n",
    "\n",
    "# fig = plt.figure()\n",
    "# ax = fig.add_subplot(111, projection='3d')\n",
    "\n",
    "# print(lat.shape)\n",
    "\n",
    "# from itertools import product as itp\n",
    "\n",
    "# layers = 4\n",
    "# len_itp = layers**3\n",
    "# colors = mcp.gen_color(cmap=\"hsv\",n=len_itp)\n",
    "\n",
    "# for l, (l1, l2, l3) in enumerate(itp(range(layers), repeat=3)):\n",
    "    \n",
    "#     #print(l, l1, l2, l3)\n",
    "#     for orb in orbs:\n",
    "#         o = lat @ (orb.T + np.matrix([l1, l2, l3]).T)\n",
    "#         ax.scatter(o[0], o[1], o[2], c=colors[l])\n",
    "#         o = lat @ (orb.T - np.matrix([l1, l2, l3]).T)\n",
    "#         ax.scatter(o[0], o[1], o[2], c=colors[l])"
   ]
  },
  {
   "cell_type": "code",
   "execution_count": 30,
   "id": "1cbeb0cd",
   "metadata": {
    "scrolled": true
   },
   "outputs": [],
   "source": [
    "from triqs.lattice.tight_binding import TBLattice\n",
    "import sympy as sp\n",
    "\n",
    "def sympyfy(tb_lat_obj, analytical = True):\n",
    "    r\"\"\"\n",
    "    returns the analytical form of the momentum space hamiltonian of the tight-binding model \n",
    "    from a tight-binding lattice object, by utilizing Fourier series\n",
    "    \n",
    "    Parameters\n",
    "    ----------\n",
    "    tb_lat_obj: triqs TBLattice object\n",
    "        triqs tight binding object\n",
    "    analytical: boolean, default = True\n",
    "        a boolean which will cause the function will return an analytical Hamiltonian, when true, and \n",
    "        an numerical Hamiltonian otherwise\n",
    "    \n",
    "    Returns\n",
    "    -------\n",
    "    Hk_numerical: NumPy Array\n",
    "        the hamiltonian of the tight-binding model in momentum space in numerical form\n",
    "    Hk: NumPy Array\n",
    "        the hamiltonian of the tight-binding model in momentum space in reduced analytical or symbolic form\n",
    "    \"\"\"\n",
    "    I = sp.I\n",
    "    # matrix from the axis directions in momentum space\n",
    "    kx, ky, kz = sp.symbols(\"kx ky kz\")\n",
    "    k_space_matrix = sp.Matrix([kx, ky, kz])\n",
    "\n",
    "    # symbolic dot product representation between the lattice unit vectors\n",
    "    # and the momentum space matrix\n",
    "    a1k, a2k, a3k = sp.symbols(\"a1k a2k a3k\")\n",
    "    lattice = sp.Matrix([a1k, a2k, a3k])\n",
    "\n",
    "    # the number of orbitals involved in the electron hoppings\n",
    "    num_orb = tb_lat_obj.n_orbitals\n",
    "\n",
    "    # dictionary containing details about the hopping of the electrons\n",
    "    TB_lat_obj_hops = tb_lat_obj.hoppings \n",
    "\n",
    "    # maximum hopping distances of electrons in each of the axial directions\n",
    "    max_x, max_y, max_z = list(np.max(np.array(list(TB_lat_obj_hops.keys())), axis = 0))\n",
    "\n",
    "    # number of cells involved in the hopping of electrons in each of the axial directions\n",
    "    num_cells_x, num_cells_y, num_cells_z = [2 * max_coord + 1 for max_coord in [max_x, max_y, max_z]]\n",
    "\n",
    "    # basis of the 5D tensor real-space Hamiltonian\n",
    "    Hrij = np.zeros((num_cells_x, num_cells_y, num_cells_z, num_orb, num_orb), dtype = sp.exp)\n",
    "\n",
    "    # looping through the hopping parameters of the electrons involved in the inter-orbital hoppings\n",
    "    # key represents the cell coordinates of where the electrons hop to relative to the home unit cell\n",
    "    # hopping represents the matrix with the embedded hopping amplitudes\n",
    "    for key, hopping in TB_lat_obj_hops.items():\n",
    "        rx, ry, rz = key\n",
    "        Hrij[rx + max_x, ry + max_y, rz + max_z] = hopping\n",
    "\n",
    "    # basis of the exponential term in the calculation of Hk\n",
    "    Hexp = np.empty_like(Hrij, dtype = sp.exp)\n",
    "\n",
    "    # perform the Fourier transform\n",
    "    for xi, yi, zi in itp(range(num_cells_x), range(num_cells_y), range(num_cells_z)):\n",
    "        coefficients = np.array([xi - max_x, yi - max_y, zi - max_z])\n",
    "        r = lattice.dot(coefficients)\n",
    "        eikr = sp.exp(-I * r)\n",
    "        Hexp[xi, yi, zi, :, :] = eikr\n",
    "    \n",
    "    # summation over all real space axes\n",
    "    Hk = np.sum(Hrij * Hexp, axis = (0, 1, 2))\n",
    "    \n",
    "    # rewriting the exponential terms in the analytical expression in terms of \n",
    "    for i, j in itp(range(num_orb), repeat = 2):\n",
    "        Hk[i, j] = Hk[i, j].rewrite(sp.cos)\n",
    "\n",
    "    # dealing with the numerical Hamiltonian\n",
    "    # we convert it to a SymPy matrix to use the substitutions method available in SymPy\n",
    "    Hk_numerical = sp.Matrix(Hk)\n",
    "    TB_lat_obj_units = tb_lat_obj.units\n",
    "    TB_lat_obj_units_transpose = np.transpose(TB_lat_obj_units)\n",
    "    \n",
    "    # obtaining the unit vectors\n",
    "    a1 = TB_lat_obj_units_transpose[0]\n",
    "    a2 = TB_lat_obj_units_transpose[1]\n",
    "    a3 = TB_lat_obj_units_transpose[2]\n",
    "\n",
    "    # numerical dot products between the unit vectors\n",
    "    # and the momentum space matrix\n",
    "    a1k_numerical = a1.dot(k_space_matrix)[0]\n",
    "    a2k_numerical = a2.dot(k_space_matrix)[0]\n",
    "    a3k_numerical = a3.dot(k_space_matrix)[0]\n",
    "    \n",
    "    # performing the numerical dot product substitutions\n",
    "    Hk_numerical = Hk_numerical.subs(a1k, a1k_numerical)\n",
    "    Hk_numerical = Hk_numerical.subs(a2k, a2k_numerical)\n",
    "    Hk_numerical = Hk_numerical.subs(a3k, a3k_numerical)\n",
    "\n",
    "    # converting the numerical Hamiltonian to a NumPy array from a SymPy matrix\n",
    "    Hk_numerical = np.array(Hk_numerical)\n",
    "    \n",
    "    # returning the analytical or numerical form of the Hamiltonian\n",
    "    # depending on the user's preference\n",
    "    if analytical:\n",
    "        return Hk\n",
    "    return Hk_numerical"
   ]
  },
  {
   "cell_type": "code",
   "execution_count": 43,
   "id": "96ab7f9a",
   "metadata": {},
   "outputs": [
    {
     "name": "stdout",
     "output_type": "stream",
     "text": [
      "The analytical expression \n",
      " [[-1.002632*cos(a3k) - 0.124416*cos(2*a3k) + 0.0182719999999996\n",
      "  -0.056436*I*sin(a1k) - 0.056434*I*sin(a1k - a3k) + 0.056436*cos(a1k) + 0.056434*cos(a1k - a3k)]\n",
      " [0.056436*I*sin(a1k) + 0.056434*I*sin(a1k - a3k) + 0.056436*cos(a1k) + 0.056434*cos(a1k - a3k)\n",
      "  -0.904748*cos(a3k) - 0.128046*cos(2*a3k) - 0.130246]]\n",
      "True\n"
     ]
    }
   ],
   "source": [
    "from triqs.lattice.utils import TB_from_pythTB\n",
    "w90_input = w90('sccuo2 Files', 'sccuo2')\n",
    "fermi_ev = 9.6082\n",
    "w90_model = w90_input.model(zero_energy = fermi_ev, min_hopping_norm = 0.05, max_distance = None)\n",
    "w90_triqs = TB_from_pythTB(w90_model)\n",
    "print(\"The analytical expression \\n\", sympyfy(w90_triqs))\n",
    "# print(\"The numerical expression \\n\", sympyfy(w90_triqs, False))\n",
    "from sympy import Matrix, exp, I, cos, Symbol\n",
    "def check_exponential(matrix):\n",
    "    for sublist in matrix:\n",
    "        for element in sublist:\n",
    "            if element.has(exp):\n",
    "                return True\n",
    "    return False\n",
    "\n",
    "x = Symbol('x')\n",
    "y = Symbol('y')\n",
    "exampleMatrix = Matrix([\n",
    "    [exp(x), cos(x), 1],\n",
    "    [exp(y), cos(y), 2]\n",
    "])\n",
    "\n",
    "exampleMatrixAsNumpyArray = np.array(exampleMatrix)\n",
    "print(check_exponential(exampleMatrixAsNumpyArray))\n",
    "\n",
    "# print(check_exponential(sympyfy(w90_triqs)))\n",
    "# print(type(sympyfy(w90_triqs)[0][0]))"
   ]
  },
  {
   "cell_type": "code",
   "execution_count": 17,
   "id": "df6f8872",
   "metadata": {},
   "outputs": [
    {
     "name": "stdout",
     "output_type": "stream",
     "text": [
      "[[-1.002632*cos(3.939404532*kz) - 0.124416*cos(7.878809064*kz) + 0.0183\n",
      "  0.056436*exp(I*(-1.762070113*kx + 7.996106593*ky)) + 0.056434*exp(I*(-1.762070113*kx + 7.996106593*ky + 3.939404532*kz))]\n",
      " [0.056436*exp(I*(1.762070113*kx - 7.996106593*ky)) + 0.056434*exp(I*(1.762070113*kx - 7.996106593*ky - 3.939404532*kz))\n",
      "  -0.904748*cos(3.939404532*kz) - 0.128046*cos(7.878809064*kz) - 0.1302]]\n"
     ]
    }
   ],
   "source": [
    "from triqs.lattice.tight_binding import TBLattice\n",
    "import sympy as sp\n",
    "\n",
    "e0 = 0.0183\n",
    "e1 = -0.1302\n",
    "\n",
    "t1 = -0.501316\n",
    "t2 = -0.452374\n",
    "\n",
    "t3 = -0.062208\n",
    "t4 = -0.064023\n",
    "\n",
    "t5 = 0.056434\n",
    "t6 = 0.056436\n",
    "\n",
    "hop = {\n",
    "        (0, 0, 0)   : [[ e0, 0], [0, e1]],\n",
    "        (0, 0, 1)   : [[ t1, 0], [0, t2]],\n",
    "        (0, 0, -1)  : [[ t1, 0], [0, t2]],\n",
    "        (0, 0, 2)   : [[ t3, 0], [0, t4]],\n",
    "        (0, 0, -2)  : [[ t3, 0], [0, t4]],\n",
    "        (1, 0, -1)  : [[ 0, t5], [0, 0]],\n",
    "        (-1, 0, 1)  : [[ 0, 0], [t5, 0]],\n",
    "        (-1, 0, 0)  : [[ 0, 0], [t6, 0]],\n",
    "        (1, 0, 0)   : [[ 0, t6], [0, 0]]\n",
    "      }\n",
    "\n",
    "\n",
    "L = TBLattice(units = [(1.7621, -7.9961, 0.) , (1.7621, 7.9961, 0.), (0., 0., 3.9394)], hoppings = hop,                     \n",
    "              orbital_positions = [(-0.0672, 1.0672, 0.25), (-0.9361, 0.9361, 0.75)])\n",
    "\n",
    "\n",
    "I = sp.I\n",
    "kx, ky, kz = sp.symbols(\"kx ky kz\")\n",
    "k = sp.Matrix([kx, ky, kz])\n",
    "norb = 2\n",
    "\n",
    "#fourier transform the hoppings to find the 8x8 noninteracting H(k) in the Nambu site basis\n",
    "mx = 1 #max hopping distance in x direction                                        \n",
    "my = 1 #max hopping distance in y direction                                        \n",
    "mz = 2 #max hopping distance in y direction                                        \n",
    "nx = 2*mx+1                                                                        \n",
    "ny = 2*my+1\n",
    "nz = 2*mz+1\n",
    "\n",
    "Hrij = np.zeros((nx, ny, nz, norb, norb), dtype = np.complex_)\n",
    "for r in L.hopping_dict():\n",
    "    rxind = r[0] + mx\n",
    "    ryind = r[1] + my\n",
    "    rzind = r[2] + mz\n",
    "    Hrij[rxind, ryind, rzind] = L.hopping_dict()[r]\n",
    "\n",
    "Hexp = np.empty_like(Hrij, dtype = sp.exp)\n",
    "for xi in range(nx):\n",
    "    for yi in range(ny):\n",
    "        for zi in range(nz):\n",
    "            r = np.array([xi-mx, yi-my, zi-mz])\n",
    "            r = lat.T.dot(r)\n",
    "            eikr = sp.exp(-I*k.dot(r))\n",
    "            Hexp[xi, yi, zi, :, :] = eikr\n",
    "Hkrij = Hrij * Hexp\n",
    "Hk = np.sum(Hkrij, axis = (0,1,2))\n",
    "for i, j in itp(range(norb), repeat=2):\n",
    "    Hk[i, j] = Hk[i, j].rewrite(sp.cos).simplify()\n",
    "print(Hk)"
   ]
  },
  {
   "cell_type": "code",
   "execution_count": 13,
   "id": "212bc6a1",
   "metadata": {},
   "outputs": [
    {
     "name": "stdout",
     "output_type": "stream",
     "text": [
      "[[ 1.76207011 -7.99610659  0.        ]\n",
      " [ 1.76207011  7.99610659  0.        ]\n",
      " [ 0.          0.          3.93940453]]\n",
      "[[ 1.78289878  1.78289878  0.        ]\n",
      " [-0.39289029  0.39289029  0.        ]\n",
      " [ 0.          0.          1.59495814]]\n"
     ]
    },
    {
     "ename": "FileNotFoundError",
     "evalue": "[Errno 2] No such file or directory: '/mnt/ceph/users/sbeck/materials/srcacuo/sccuo2/wan_conv/sccuo2_band.kpt'",
     "output_type": "error",
     "traceback": [
      "\u001b[0;31m---------------------------------------------------------------------------\u001b[0m",
      "\u001b[0;31mFileNotFoundError\u001b[0m                         Traceback (most recent call last)",
      "Cell \u001b[0;32mIn[13], line 7\u001b[0m\n\u001b[1;32m      3\u001b[0m \u001b[38;5;28mprint\u001b[39m(Ks)\n\u001b[1;32m      5\u001b[0m subs \u001b[38;5;241m=\u001b[39m \u001b[38;5;241m0\u001b[39m\n\u001b[0;32m----> 7\u001b[0m \u001b[38;5;28;01mwith\u001b[39;00m \u001b[38;5;28mopen\u001b[39m(\u001b[38;5;124m\"\u001b[39m\u001b[38;5;124m/mnt/ceph/users/sbeck/materials/srcacuo/sccuo2/wan_conv/sccuo2_band.kpt\u001b[39m\u001b[38;5;124m\"\u001b[39m, \u001b[38;5;124m'\u001b[39m\u001b[38;5;124mr\u001b[39m\u001b[38;5;124m'\u001b[39m) \u001b[38;5;28;01mas\u001b[39;00m A:\n\u001b[1;32m      8\u001b[0m     lines \u001b[38;5;241m=\u001b[39m A\u001b[38;5;241m.\u001b[39mreadlines()[\u001b[38;5;241m1\u001b[39m:]\n\u001b[1;32m     10\u001b[0m ks \u001b[38;5;241m=\u001b[39m []\n",
      "File \u001b[0;32m~/opt/anaconda3/envs/TRIQS/lib/python3.11/site-packages/IPython/core/interactiveshell.py:284\u001b[0m, in \u001b[0;36m_modified_open\u001b[0;34m(file, *args, **kwargs)\u001b[0m\n\u001b[1;32m    277\u001b[0m \u001b[38;5;28;01mif\u001b[39;00m file \u001b[38;5;129;01min\u001b[39;00m {\u001b[38;5;241m0\u001b[39m, \u001b[38;5;241m1\u001b[39m, \u001b[38;5;241m2\u001b[39m}:\n\u001b[1;32m    278\u001b[0m     \u001b[38;5;28;01mraise\u001b[39;00m \u001b[38;5;167;01mValueError\u001b[39;00m(\n\u001b[1;32m    279\u001b[0m         \u001b[38;5;124mf\u001b[39m\u001b[38;5;124m\"\u001b[39m\u001b[38;5;124mIPython won\u001b[39m\u001b[38;5;124m'\u001b[39m\u001b[38;5;124mt let you open fd=\u001b[39m\u001b[38;5;132;01m{\u001b[39;00mfile\u001b[38;5;132;01m}\u001b[39;00m\u001b[38;5;124m by default \u001b[39m\u001b[38;5;124m\"\u001b[39m\n\u001b[1;32m    280\u001b[0m         \u001b[38;5;124m\"\u001b[39m\u001b[38;5;124mas it is likely to crash IPython. If you know what you are doing, \u001b[39m\u001b[38;5;124m\"\u001b[39m\n\u001b[1;32m    281\u001b[0m         \u001b[38;5;124m\"\u001b[39m\u001b[38;5;124myou can use builtins\u001b[39m\u001b[38;5;124m'\u001b[39m\u001b[38;5;124m open.\u001b[39m\u001b[38;5;124m\"\u001b[39m\n\u001b[1;32m    282\u001b[0m     )\n\u001b[0;32m--> 284\u001b[0m \u001b[38;5;28;01mreturn\u001b[39;00m io_open(file, \u001b[38;5;241m*\u001b[39margs, \u001b[38;5;241m*\u001b[39m\u001b[38;5;241m*\u001b[39mkwargs)\n",
      "\u001b[0;31mFileNotFoundError\u001b[0m: [Errno 2] No such file or directory: '/mnt/ceph/users/sbeck/materials/srcacuo/sccuo2/wan_conv/sccuo2_band.kpt'"
     ]
    }
   ],
   "source": [
    "Ks = 2*np.pi*np.linalg.inv(lat)\n",
    "print(lat)\n",
    "print(Ks)\n",
    "\n",
    "subs = 0\n",
    "\n",
    "with open(\"/mnt/ceph/users/sbeck/materials/srcacuo/sccuo2/wan_conv/sccuo2_band.kpt\", 'r') as A:\n",
    "    lines = A.readlines()[1:]\n",
    "\n",
    "ks = []\n",
    "for k in range(len(lines)):\n",
    "    l = lines[k].split()\n",
    "    ks.append([float(l[0]), float(l[1]), float(l[2])])\n",
    "    \n",
    "# path=np.matrix([[0.0,0.0,0.0],[0.0,0.0,0.5],[0.25,0.25,0.5],[0.25,0.25,0.0],[0.0, 0.0, 0.0],[-0.25,0.25,0.0]])\n",
    "# ks = []\n",
    "# nk = 25\n",
    "# for k in range(len(path)-1):\n",
    "#     p = path[k+1] - path[k]\n",
    "#     for i in range(nk):\n",
    "#         ks.append([path[k, 0]+p[0, 0]/nk*i, path[k, 1]+p[0, 1]/nk*i, path[k, 2]+p[0, 2]/nk*i])\n",
    "#         # print(ks[-1])\n",
    "# ks.append([path[-1, 0], path[-1, 1], path[-1, 2]])\n",
    "# # print(ks[-1])\n",
    "\n",
    "# Hk2 = [[], [], []]\n",
    "# for ki, k in enumerate(ks):\n",
    "#     new_k = Ks @ np.matrix(k).T\n",
    "#     Hk2_tmp = 0*Hk\n",
    "#     for i, j in itp(range(norb), repeat=2):\n",
    "#         Hk2_tmp[i, j] = Hk[i, j].evalf(5, subs={\"kx\":new_k[0, 0], \"ky\":new_k[1, 0], \"kz\":new_k[2, 0]})\n",
    "#     eigs = np.linalg.eigvals(Hk2_tmp.astype(complex))\n",
    "#     Hk2[0].append(ki)\n",
    "#     Hk2[1].append(eigs[0])\n",
    "#     Hk2[2].append(eigs[1])\n",
    "\n",
    "a = 3.52414\n",
    "b = 15.99221\n",
    "c = 3.93940\n",
    "\n",
    "e1 = 0.0183\n",
    "e2 = -0.1302\n",
    "\n",
    "t11 = -0.501316\n",
    "t22 = -0.452374\n",
    "\n",
    "tp11 = -0.062208\n",
    "tp22 = -0.064023\n",
    "\n",
    "t12 = 0.056434\n",
    "\n",
    "Hk2 = [[], [], []]\n",
    "for ki, k in enumerate(ks):\n",
    "    new_k = Ks @ np.matrix(k).T\n",
    "    \n",
    "    # print(new_k. T)\n",
    "    \n",
    "    Hk2_tmp = 0*Hk\n",
    "    \n",
    "    Hk2_tmp[0, 0] = 2*t11*np.cos(c*new_k[2]) + 2*tp11*np.cos(2*c*new_k[2]) + e1\n",
    "    # Hk2_tmp[0, 1] = t12*np.exp(-1j*(a/2*new_k[0]-b/2*new_k[1]))*(1+np.exp( 1j*c*new_k[2]))\n",
    "    # Hk2_tmp[1, 0] = t12*np.exp( 1j*(a/2*new_k[0]-b/2*new_k[1]))*(1+np.exp(-1j*c*new_k[2]))\n",
    "    Hk2_tmp[1, 1] = 2*t22*np.cos(c*new_k[2]) + 2*tp22*np.cos(2*c*new_k[2]) + e2\n",
    "    \n",
    "    # Hk2_tmp[0, 1] = t12*(1+np.exp( 1j*c*new_k[2]))\n",
    "    # Hk2_tmp[1, 0] = t12*(1+np.exp(-1j*c*new_k[2]))\n",
    "    \n",
    "    Hk2_tmp[0, 1] = t12*(1+np.exp( 1j*c*new_k[2]))\n",
    "    Hk2_tmp[1, 0] = 2*t12*np.cos(c*new_k[2]/2)\n",
    "    \n",
    "    eigs = np.linalg.eigvals(Hk2_tmp.astype(complex))\n",
    "    Hk2[0].append(ki)\n",
    "    Hk2[1].append(eigs[0])\n",
    "    Hk2[2].append(eigs[1])\n",
    "    \n",
    "plt.plot(Hk2[0], Hk2[1])\n",
    "plt.plot(Hk2[0], Hk2[2])\n",
    "\n"
   ]
  },
  {
   "cell_type": "code",
   "execution_count": 14,
   "id": "4db2a363",
   "metadata": {},
   "outputs": [
    {
     "ename": "FileNotFoundError",
     "evalue": "[Errno 2] No such file or directory: '/mnt/ceph/users/sbeck/materials/srcacuo/sccuo2/wan_conv//sccuo2.win'",
     "output_type": "error",
     "traceback": [
      "\u001b[0;31m---------------------------------------------------------------------------\u001b[0m",
      "\u001b[0;31mFileNotFoundError\u001b[0m                         Traceback (most recent call last)",
      "Cell \u001b[0;32mIn[14], line 1\u001b[0m\n\u001b[0;32m----> 1\u001b[0m w90_input \u001b[39m=\u001b[39m w90(\u001b[39m'\u001b[39m\u001b[39m/mnt/ceph/users/sbeck/materials/srcacuo/sccuo2/wan_conv/\u001b[39m\u001b[39m'\u001b[39m, \u001b[39m'\u001b[39m\u001b[39msccuo2\u001b[39m\u001b[39m'\u001b[39m)\n\u001b[1;32m      2\u001b[0m fermi_ev \u001b[39m=\u001b[39m \u001b[39m9.6082\u001b[39m\n\u001b[1;32m      4\u001b[0m w90_model \u001b[39m=\u001b[39m w90_input\u001b[39m.\u001b[39mmodel(zero_energy\u001b[39m=\u001b[39mfermi_ev, min_hopping_norm\u001b[39m=\u001b[39m\u001b[39m0.05\u001b[39m, max_distance\u001b[39m=\u001b[39m\u001b[39mNone\u001b[39;00m)\n",
      "File \u001b[0;32m~/opt/anaconda3/envs/TRIQS/lib/python3.11/site-packages/pythtb.py:3336\u001b[0m, in \u001b[0;36mw90.__init__\u001b[0;34m(self, path, prefix)\u001b[0m\n\u001b[1;32m   3333\u001b[0m \u001b[39mself\u001b[39m\u001b[39m.\u001b[39mprefix\u001b[39m=\u001b[39mprefix\n\u001b[1;32m   3335\u001b[0m \u001b[39m# read in lattice_vectors\u001b[39;00m\n\u001b[0;32m-> 3336\u001b[0m f\u001b[39m=\u001b[39m\u001b[39mopen\u001b[39m(\u001b[39mself\u001b[39m\u001b[39m.\u001b[39mpath\u001b[39m+\u001b[39m\u001b[39m\"\u001b[39m\u001b[39m/\u001b[39m\u001b[39m\"\u001b[39m\u001b[39m+\u001b[39m\u001b[39mself\u001b[39m\u001b[39m.\u001b[39mprefix\u001b[39m+\u001b[39m\u001b[39m\"\u001b[39m\u001b[39m.win\u001b[39m\u001b[39m\"\u001b[39m,\u001b[39m\"\u001b[39m\u001b[39mr\u001b[39m\u001b[39m\"\u001b[39m)\n\u001b[1;32m   3337\u001b[0m ln\u001b[39m=\u001b[39mf\u001b[39m.\u001b[39mreadlines()\n\u001b[1;32m   3338\u001b[0m f\u001b[39m.\u001b[39mclose()\n",
      "\u001b[0;31mFileNotFoundError\u001b[0m: [Errno 2] No such file or directory: '/mnt/ceph/users/sbeck/materials/srcacuo/sccuo2/wan_conv//sccuo2.win'"
     ]
    }
   ],
   "source": [
    "w90_input = w90('/mnt/ceph/users/sbeck/materials/srcacuo/sccuo2/wan_conv/', 'sccuo2')\n",
    "fermi_ev = 9.6082\n",
    "\n",
    "w90_model = w90_input.model(zero_energy=fermi_ev, min_hopping_norm=0.05, max_distance=None)\n",
    "# w90_model = w90_input.model(zero_energy=fermi_ev, min_hopping_norm=0.0, max_distance=3.8586)\n",
    "# w90_model = w90_input.model(zero_energy=fermi_ev)\n",
    "(dist, ham) = w90_input.dist_hop()\n",
    "(w90_kpt, w90_evals) = w90_input.w90_bands_consistency()\n",
    "int_evals = w90_model.solve_all(w90_kpt)\n",
    "\n",
    "# solve model\n",
    "evals = w90_model.solve_all(w90_kpt)\n",
    "\n",
    "fig, ax = plt.subplots(dpi=150)\n",
    "\n",
    "for i in range(w90_evals.shape[0]):\n",
    "    ax.plot(list(range(w90_evals.shape[1])), w90_evals[i]-fermi_ev, \"k-\", zorder=-100)\n",
    "\n",
    "for i in range(int_evals.shape[0]):\n",
    "    ax.plot(list(range(int_evals.shape[1])), int_evals[i], \"r-\", zorder=-50)\n",
    "\n",
    "ax.plot(Hk2[0], Hk2[1], color=\"blue\", linestyle=':')\n",
    "ax.plot(Hk2[0], Hk2[2], color=\"blue\", linestyle=':')\n",
    "    \n",
    "ax.set_xlim(0, int_evals.shape[1]-1)\n",
    "ax.set_xlabel(\"K-path from Wannier90\")\n",
    "ax.set_ylabel(\"Band energy (eV)\")"
   ]
  },
  {
   "cell_type": "code",
   "execution_count": null,
   "id": "4fba62ed",
   "metadata": {},
   "outputs": [],
   "source": []
  }
 ],
 "metadata": {
  "kernelspec": {
   "display_name": "TRIQS",
   "language": "python",
   "name": "triqs"
  },
  "language_info": {
   "codemirror_mode": {
    "name": "ipython",
    "version": 3
   },
   "file_extension": ".py",
   "mimetype": "text/x-python",
   "name": "python",
   "nbconvert_exporter": "python",
   "pygments_lexer": "ipython3",
   "version": "3.11.4"
  }
 },
 "nbformat": 4,
 "nbformat_minor": 5
}
