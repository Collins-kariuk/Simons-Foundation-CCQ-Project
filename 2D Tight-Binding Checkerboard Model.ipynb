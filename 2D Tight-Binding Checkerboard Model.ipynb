{
 "cells": [
  {
   "cell_type": "code",
   "execution_count": 1,
   "id": "1612367f",
   "metadata": {},
   "outputs": [],
   "source": [
    "from __future__ import print_function\n",
    "from pythtb import *\n",
    "import numpy as np\n",
    "import matplotlib.pyplot as plt"
   ]
  },
  {
   "cell_type": "code",
   "execution_count": 2,
   "id": "e7bf15b8",
   "metadata": {},
   "outputs": [],
   "source": [
    "# define the lattice vectors and the coordinates of orbitals\n",
    "lat = [[1.0, 0.0], [0.0, 1.0]]\n",
    "orb = [[0.0, 0.0], [0.5, 0.5]]"
   ]
  },
  {
   "cell_type": "code",
   "execution_count": 3,
   "id": "c3acdb06",
   "metadata": {},
   "outputs": [],
   "source": [
    "# define your model by making a 2D tight-binding checkboard model\n",
    "my_model = tb_model(2,2,lat, orb)"
   ]
  },
  {
   "cell_type": "code",
   "execution_count": 4,
   "id": "4ccfb7dd",
   "metadata": {},
   "outputs": [],
   "source": [
    "# set model parameters\n",
    "delta = 1.1\n",
    "t = 0.6"
   ]
  },
  {
   "cell_type": "code",
   "execution_count": 5,
   "id": "47c19e50",
   "metadata": {},
   "outputs": [],
   "source": [
    "# set on-site energies\n",
    "\n",
    "# the first parameter includes a list of on-site energies for each orbital\n",
    "# if this function is never called, the on-site energy is assumed to be zero\n",
    "my_model.set_onsite([-delta, delta])"
   ]
  },
  {
   "cell_type": "code",
   "execution_count": 6,
   "id": "0795ebfa",
   "metadata": {},
   "outputs": [],
   "source": [
    "# set hoppings (one for each connected pair of orbitals)\n",
    "# (hopping amplitude, i (index of orbital in the home unit cell), j, [lattice vector to cell containing j])\n",
    "\n",
    "# hopping from the \"first\" orbital in the home unit cell to the \"zeroth\" orbital which is still in the home unit\n",
    "# cell (indicated by the lattice vector [0, 0])\n",
    "my_model.set_hop(t, 1, 0, [0, 0])\n",
    "\n",
    "my_model.set_hop(t, 1, 0, [1, 0])\n",
    "my_model.set_hop(t, 1, 0, [0, 1])\n",
    "my_model.set_hop(t, 1, 0, [1, 1])"
   ]
  },
  {
   "cell_type": "code",
   "execution_count": 7,
   "id": "876ac610",
   "metadata": {},
   "outputs": [
    {
     "name": "stdout",
     "output_type": "stream",
     "text": [
      "---------------------------------------\n",
      "report of tight-binding model\n",
      "---------------------------------------\n",
      "k-space dimension           = 2\n",
      "r-space dimension           = 2\n",
      "number of spin components   = 1\n",
      "periodic directions         = [0, 1]\n",
      "number of orbitals          = 2\n",
      "number of electronic states = 2\n",
      "lattice vectors:\n",
      " #  0  ===>  [     1.0 ,     0.0 ]\n",
      " #  1  ===>  [     0.0 ,     1.0 ]\n",
      "positions of orbitals:\n",
      " #  0  ===>  [     0.0 ,     0.0 ]\n",
      " #  1  ===>  [     0.5 ,     0.5 ]\n",
      "site energies:\n",
      " #  0  ===>      -1.1\n",
      " #  1  ===>       1.1\n",
      "hoppings:\n",
      "<  1 | H |  0 + [  0 ,  0 ] >     ===>      0.6 +     0.0 i\n",
      "<  1 | H |  0 + [  1 ,  0 ] >     ===>      0.6 +     0.0 i\n",
      "<  1 | H |  0 + [  0 ,  1 ] >     ===>      0.6 +     0.0 i\n",
      "<  1 | H |  0 + [  1 ,  1 ] >     ===>      0.6 +     0.0 i\n",
      "hopping distances:\n",
      "|  pos(  1 )  - pos(  0 + [  0 ,  0 ] ) |  =    0.7071\n",
      "|  pos(  1 )  - pos(  0 + [  1 ,  0 ] ) |  =    0.7071\n",
      "|  pos(  1 )  - pos(  0 + [  0 ,  1 ] ) |  =    0.7071\n",
      "|  pos(  1 )  - pos(  0 + [  1 ,  1 ] ) |  =    0.7071\n",
      "\n"
     ]
    }
   ],
   "source": [
    "# print or display the tight-binding model\n",
    "my_model.display()"
   ]
  },
  {
   "cell_type": "code",
   "execution_count": 15,
   "id": "48310c39",
   "metadata": {
    "scrolled": false
   },
   "outputs": [
    {
     "name": "stdout",
     "output_type": "stream",
     "text": [
      "[[0.         0.        ]\n",
      " [0.         0.08333333]\n",
      " [0.         0.16666667]\n",
      " [0.         0.25      ]\n",
      " [0.         0.33333333]\n",
      " [0.         0.41666667]\n",
      " [0.         0.5       ]\n",
      " [0.08333333 0.5       ]\n",
      " [0.16666667 0.5       ]\n",
      " [0.25       0.5       ]\n",
      " [0.33333333 0.5       ]\n",
      " [0.41666667 0.5       ]\n",
      " [0.5        0.5       ]\n",
      " [0.4375     0.4375    ]\n",
      " [0.375      0.375     ]\n",
      " [0.3125     0.3125    ]\n",
      " [0.25       0.25      ]\n",
      " [0.1875     0.1875    ]\n",
      " [0.125      0.125     ]\n",
      " [0.0625     0.0625    ]\n",
      " [0.         0.        ]]\n",
      "[0.         0.08333333 0.16666667 0.25       0.33333333 0.41666667\n",
      " 0.5        0.58333333 0.66666667 0.75       0.83333333 0.91666667\n",
      " 1.         1.08838835 1.1767767  1.26516504 1.35355339 1.44194174\n",
      " 1.53033009 1.61871843 1.70710678]\n",
      "[0.         0.5        1.         1.70710678]\n"
     ]
    }
   ],
   "source": [
    "# generate the k-point path and labels\n",
    "path= [[0.0,0.0],[0.0,0.5],[0.5,0.5],[0.0,0.0]]\n",
    "label = (r'$\\Gamma $',r'$X$', r'$M$', r'$\\Gamma $')\n",
    "(k_vec, k_dist, k_node) = my_model.k_path(path, 21, report=False)\n",
    "print(k_vec)\n",
    "print(k_dist)\n",
    "print(k_node)"
   ]
  },
  {
   "cell_type": "code",
   "execution_count": 9,
   "id": "8c40abd2",
   "metadata": {
    "scrolled": false
   },
   "outputs": [
    {
     "name": "stdout",
     "output_type": "stream",
     "text": [
      "---------------------------------------\n",
      "starting calculation\n",
      "---------------------------------------\n",
      "Calculating bands...\n"
     ]
    }
   ],
   "source": [
    "print('---------------------------------------')\n",
    "print('starting calculation')\n",
    "print('---------------------------------------')\n",
    "print('Calculating bands...')"
   ]
  },
  {
   "cell_type": "code",
   "execution_count": 10,
   "id": "e282d3ef",
   "metadata": {
    "scrolled": true
   },
   "outputs": [
    {
     "name": "stdout",
     "output_type": "stream",
     "text": [
      "[[-2.64007576 -2.63972819 -2.63868567 -2.6369487  -2.63451813 -2.63139512\n",
      "  -2.6275812  -2.62307824 -2.61788842 -2.61201429 -2.60545873 -2.59822498\n",
      "  -2.59031661 -2.58173755 -2.57249208 -2.56258483 -2.5520208  -2.54080535\n",
      "  -2.5289442  -2.51644345 -2.50330956 -2.4895494  -2.4751702  -2.4601796\n",
      "  -2.44458563 -2.42839674 -2.41162179 -2.39427008 -2.37635131 -2.35787567\n",
      "  -2.3388538  -2.31929678 -2.29921622 -2.27862421 -2.25753335 -2.2359568\n",
      "  -2.21390826 -2.191402   -2.16845291 -2.1450765  -2.12128893 -2.09710704\n",
      "  -2.07254839 -2.0476313  -2.02237484 -1.99679896 -1.97092444 -1.94477301\n",
      "  -1.91836734 -1.89173116 -1.86488926 -1.83786759 -1.8106933  -1.78339485\n",
      "  -1.75600204 -1.72854613 -1.70105989 -1.67357773 -1.64613575 -1.61877185\n",
      "  -1.59152582 -1.56443945 -1.53755661 -1.51092331 -1.48458785 -1.45860081\n",
      "  -1.43301517 -1.40788628 -1.38327193 -1.35923227 -1.33582979 -1.31312915\n",
      "  -1.29119705 -1.27010196 -1.2499138  -1.23070355 -1.21254272 -1.1955028\n",
      "  -1.17965452 -1.16506711 -1.15180738 -1.13993885 -1.12952071 -1.12060686\n",
      "  -1.11324492 -1.1074753  -1.10333037 -1.1008338  -1.1        -1.1\n",
      "  -1.1        -1.1        -1.1        -1.1        -1.1        -1.1\n",
      "  -1.1        -1.1        -1.1        -1.1        -1.1        -1.1\n",
      "  -1.1        -1.1        -1.1        -1.1        -1.1        -1.1\n",
      "  -1.1        -1.1        -1.1        -1.1        -1.1        -1.1\n",
      "  -1.1        -1.1        -1.1        -1.1        -1.1        -1.1\n",
      "  -1.1        -1.1        -1.1        -1.1        -1.1        -1.1\n",
      "  -1.1        -1.1        -1.1        -1.1        -1.1        -1.1\n",
      "  -1.1        -1.1        -1.1        -1.1        -1.1        -1.1\n",
      "  -1.1        -1.1        -1.1        -1.1        -1.1        -1.1\n",
      "  -1.1        -1.1        -1.1        -1.1        -1.1        -1.1\n",
      "  -1.1        -1.1        -1.1        -1.1        -1.1        -1.1\n",
      "  -1.1        -1.1        -1.1        -1.1        -1.1        -1.1\n",
      "  -1.1        -1.1        -1.1        -1.1        -1.1        -1.1\n",
      "  -1.1        -1.1        -1.1        -1.1        -1.1        -1.1\n",
      "  -1.1        -1.1        -1.1        -1.10000007 -1.10000108 -1.10000546\n",
      "  -1.10001723 -1.10004202 -1.10008704 -1.10016102 -1.10027424 -1.10043844\n",
      "  -1.10066683 -1.10097397 -1.10137578 -1.10188944 -1.10253331 -1.10332686\n",
      "  -1.10429058 -1.10544586 -1.1068149  -1.1084206  -1.11028637 -1.11243609\n",
      "  -1.11489386 -1.11768394 -1.12083053 -1.12435762 -1.12828884 -1.13264728\n",
      "  -1.13745532 -1.14273447 -1.14850519 -1.15478676 -1.16159712 -1.16895272\n",
      "  -1.17686841 -1.18535733 -1.1944308  -1.20409828 -1.21436723 -1.22524315\n",
      "  -1.2367295  -1.24882773 -1.26153726 -1.2748555  -1.28877792 -1.30329809\n",
      "  -1.31840773 -1.33409683 -1.35035367 -1.36716497 -1.38451599 -1.40239058\n",
      "  -1.42077132 -1.43963964 -1.45897589 -1.47875946 -1.49896889 -1.51958196\n",
      "  -1.54057576 -1.56192683 -1.58361122 -1.60560453 -1.62788206 -1.65041884\n",
      "  -1.67318968 -1.69616926 -1.7193322  -1.74265304 -1.76610638 -1.78966684\n",
      "  -1.81330916 -1.83700821 -1.86073903 -1.88447683 -1.90819709 -1.93187548\n",
      "  -1.95548799 -1.97901088 -2.00242071 -2.02569438 -2.04880913 -2.07174256\n",
      "  -2.09447262 -2.11697767 -2.13923644 -2.16122808 -2.18293213 -2.20432857\n",
      "  -2.22539781 -2.24612069 -2.26647849 -2.28645296 -2.30602631 -2.32518118\n",
      "  -2.34390073 -2.36216856 -2.37996878 -2.39728597 -2.41410521 -2.43041207\n",
      "  -2.44619265 -2.46143353 -2.47612182 -2.49024512 -2.50379159 -2.51674989\n",
      "  -2.52910921 -2.54085927 -2.55199034 -2.56249321 -2.57235923 -2.58158027\n",
      "  -2.59014879 -2.59805775 -2.60530069 -2.6118717  -2.61776543 -2.62297709\n",
      "  -2.62750243 -2.6313378  -2.63448006 -2.63692669 -2.6386757  -2.63972567\n",
      "  -2.64007576]\n",
      " [ 2.64007576  2.63972819  2.63868567  2.6369487   2.63451813  2.63139512\n",
      "   2.6275812   2.62307824  2.61788842  2.61201429  2.60545873  2.59822498\n",
      "   2.59031661  2.58173755  2.57249208  2.56258483  2.5520208   2.54080535\n",
      "   2.5289442   2.51644345  2.50330956  2.4895494   2.4751702   2.4601796\n",
      "   2.44458563  2.42839674  2.41162179  2.39427008  2.37635131  2.35787567\n",
      "   2.3388538   2.31929678  2.29921622  2.27862421  2.25753335  2.2359568\n",
      "   2.21390826  2.191402    2.16845291  2.1450765   2.12128893  2.09710704\n",
      "   2.07254839  2.0476313   2.02237484  1.99679896  1.97092444  1.94477301\n",
      "   1.91836734  1.89173116  1.86488926  1.83786759  1.8106933   1.78339485\n",
      "   1.75600204  1.72854613  1.70105989  1.67357773  1.64613575  1.61877185\n",
      "   1.59152582  1.56443945  1.53755661  1.51092331  1.48458785  1.45860081\n",
      "   1.43301517  1.40788628  1.38327193  1.35923227  1.33582979  1.31312915\n",
      "   1.29119705  1.27010196  1.2499138   1.23070355  1.21254272  1.1955028\n",
      "   1.17965452  1.16506711  1.15180738  1.13993885  1.12952071  1.12060686\n",
      "   1.11324492  1.1074753   1.10333037  1.1008338   1.1         1.1\n",
      "   1.1         1.1         1.1         1.1         1.1         1.1\n",
      "   1.1         1.1         1.1         1.1         1.1         1.1\n",
      "   1.1         1.1         1.1         1.1         1.1         1.1\n",
      "   1.1         1.1         1.1         1.1         1.1         1.1\n",
      "   1.1         1.1         1.1         1.1         1.1         1.1\n",
      "   1.1         1.1         1.1         1.1         1.1         1.1\n",
      "   1.1         1.1         1.1         1.1         1.1         1.1\n",
      "   1.1         1.1         1.1         1.1         1.1         1.1\n",
      "   1.1         1.1         1.1         1.1         1.1         1.1\n",
      "   1.1         1.1         1.1         1.1         1.1         1.1\n",
      "   1.1         1.1         1.1         1.1         1.1         1.1\n",
      "   1.1         1.1         1.1         1.1         1.1         1.1\n",
      "   1.1         1.1         1.1         1.1         1.1         1.1\n",
      "   1.1         1.1         1.1         1.1         1.1         1.1\n",
      "   1.1         1.1         1.1         1.10000007  1.10000108  1.10000546\n",
      "   1.10001723  1.10004202  1.10008704  1.10016102  1.10027424  1.10043844\n",
      "   1.10066683  1.10097397  1.10137578  1.10188944  1.10253331  1.10332686\n",
      "   1.10429058  1.10544586  1.1068149   1.1084206   1.11028637  1.11243609\n",
      "   1.11489386  1.11768394  1.12083053  1.12435762  1.12828884  1.13264728\n",
      "   1.13745532  1.14273447  1.14850519  1.15478676  1.16159712  1.16895272\n",
      "   1.17686841  1.18535733  1.1944308   1.20409828  1.21436723  1.22524315\n",
      "   1.2367295   1.24882773  1.26153726  1.2748555   1.28877792  1.30329809\n",
      "   1.31840773  1.33409683  1.35035367  1.36716497  1.38451599  1.40239058\n",
      "   1.42077132  1.43963964  1.45897589  1.47875946  1.49896889  1.51958196\n",
      "   1.54057576  1.56192683  1.58361122  1.60560453  1.62788206  1.65041884\n",
      "   1.67318968  1.69616926  1.7193322   1.74265304  1.76610638  1.78966684\n",
      "   1.81330916  1.83700821  1.86073903  1.88447683  1.90819709  1.93187548\n",
      "   1.95548799  1.97901088  2.00242071  2.02569438  2.04880913  2.07174256\n",
      "   2.09447262  2.11697767  2.13923644  2.16122808  2.18293213  2.20432857\n",
      "   2.22539781  2.24612069  2.26647849  2.28645296  2.30602631  2.32518118\n",
      "   2.34390073  2.36216856  2.37996878  2.39728597  2.41410521  2.43041207\n",
      "   2.44619265  2.46143353  2.47612182  2.49024512  2.50379159  2.51674989\n",
      "   2.52910921  2.54085927  2.55199034  2.56249321  2.57235923  2.58158027\n",
      "   2.59014879  2.59805775  2.60530069  2.6118717   2.61776543  2.62297709\n",
      "   2.62750243  2.6313378   2.63448006  2.63692669  2.6386757   2.63972567\n",
      "   2.64007576]]\n"
     ]
    }
   ],
   "source": [
    "# solve for the eigenenergies of the Hamiltonian on the set of k-points above\n",
    "evals = my_model.solve_all(k_vec)\n",
    "print(evals)"
   ]
  },
  {
   "cell_type": "code",
   "execution_count": 11,
   "id": "e4028dee",
   "metadata": {},
   "outputs": [
    {
     "name": "stdout",
     "output_type": "stream",
     "text": [
      "Plotting the band structure...\n",
      "[0.         0.5        1.         1.70710678]\n"
     ]
    },
    {
     "data": {
      "image/png": "[encoded data removed]",
      "text/plain": [
       "<Figure size 640x480 with 1 Axes>"
      ]
     },
     "metadata": {},
     "output_type": "display_data"
    }
   ],
   "source": [
    "# plotting of band structure\n",
    "print('Plotting the band structure...')\n",
    "fig, ax = plt.subplots()\n",
    "ax.set_xlim(k_node[0], k_node[-1])\n",
    "ax.set_xticks(k_node)\n",
    "ax.set_xticklabels(label)\n",
    "print(k_node)\n",
    "\n",
    "for n in range(len(k_node)):\n",
    "    ax.axvline(x=k_node[n], linewidth=0.5, color='k')\n",
    "\n",
    "# plot the bands\n",
    "for n in range(2):\n",
    "    ax.plot(k_dist, evals[n])\n",
    "\n",
    "# put title\n",
    "ax.set_title('Checkerboard band structure')\n",
    "ax.set_xlabel('Path in k-space')\n",
    "ax.set_ylabel('Band energy')\n",
    "\n",
    "fig.savefig('2D Tight-Binding Checkerboard Model.pdf')"
   ]
  },
  {
   "cell_type": "code",
   "execution_count": null,
   "id": "0a4be308",
   "metadata": {},
   "outputs": [],
   "source": []
  }
 ],
 "metadata": {
  "kernelspec": {
   "display_name": "Python 3 (ipykernel)",
   "language": "python",
   "name": "python3"
  },
  "language_info": {
   "codemirror_mode": {
    "name": "ipython",
    "version": 3
   },
   "file_extension": ".py",
   "mimetype": "text/x-python",
   "name": "python",
   "nbconvert_exporter": "python",
   "pygments_lexer": "ipython3",
   "version": "3.9.13"
  }
 },
 "nbformat": 4,
 "nbformat_minor": 5
}
