{
 "cells": [
  {
   "cell_type": "code",
   "execution_count": 54,
   "id": "1612367f",
   "metadata": {},
   "outputs": [],
   "source": [
    "from __future__ import print_function\n",
    "from pythtb import *\n",
    "import numpy as np\n",
    "import matplotlib.pyplot as plt\n",
    "from itertools import product as itp"
   ]
  },
  {
   "cell_type": "code",
   "execution_count": 29,
   "id": "e7bf15b8",
   "metadata": {},
   "outputs": [],
   "source": [
    "# define the lattice vectors and the coordinates of orbitals\n",
    "lat = [[1.0, 0.0, 0.0], [0.0, 1.0, 0.0], [0.0, 0.0, 1.0]]\n",
    "orb = [[0.0, 0.0, 0.0], [0.0, 0.0, 0.0], [0.0, 0.0, 0.0]]"
   ]
  },
  {
   "cell_type": "code",
   "execution_count": 30,
   "id": "c3acdb06",
   "metadata": {},
   "outputs": [],
   "source": [
    "# define your model by making a 2D tight-binding checkboard model\n",
    "my_model = tb_model(3,3,lat, orb)"
   ]
  },
  {
   "cell_type": "code",
   "execution_count": 31,
   "id": "4ccfb7dd",
   "metadata": {},
   "outputs": [],
   "source": [
    "# set model parameters\n",
    "delta = 0.0\n",
    "t = -0.6"
   ]
  },
  {
   "cell_type": "code",
   "execution_count": 32,
   "id": "47c19e50",
   "metadata": {},
   "outputs": [],
   "source": [
    "# set on-site energies\n",
    "\n",
    "# the first parameter includes a list of on-site energies for each orbital\n",
    "# if this function is never called, the on-site energy is assumed to be zero\n",
    "my_model.set_onsite([delta, delta, delta])"
   ]
  },
  {
   "cell_type": "code",
   "execution_count": 33,
   "id": "0795ebfa",
   "metadata": {},
   "outputs": [],
   "source": [
    "# set hoppings (one for each connected pair of orbitals)\n",
    "# (hopping amplitude, i (index of orbital in the home unit cell), j, [lattice vector to cell containing j])\n",
    "\n",
    "# hopping from the \"first\" orbital in the home unit cell to the \"zeroth\" orbital which is still in the home unit\n",
    "# cell (indicated by the lattice vector [0, 0])\n",
    "my_model.set_hop(t, 0, 0, [0, 1, 0])\n",
    "my_model.set_hop(t, 0, 0, [1, 0, 0])\n",
    "\n",
    "my_model.set_hop(t, 1, 1, [0, 1, 0])\n",
    "my_model.set_hop(t, 1, 1, [0, 0, 1])\n",
    "\n",
    "my_model.set_hop(t, 2, 2, [1, 0, 0])\n",
    "my_model.set_hop(t, 2, 2, [0, 0, 1])"
   ]
  },
  {
   "cell_type": "code",
   "execution_count": 34,
   "id": "876ac610",
   "metadata": {},
   "outputs": [
    {
     "name": "stdout",
     "output_type": "stream",
     "text": [
      "---------------------------------------\n",
      "report of tight-binding model\n",
      "---------------------------------------\n",
      "k-space dimension           = 3\n",
      "r-space dimension           = 3\n",
      "number of spin components   = 1\n",
      "periodic directions         = [0, 1, 2]\n",
      "number of orbitals          = 3\n",
      "number of electronic states = 3\n",
      "lattice vectors:\n",
      " #  0  ===>  [     1.0 ,     0.0 ,     0.0 ]\n",
      " #  1  ===>  [     0.0 ,     1.0 ,     0.0 ]\n",
      " #  2  ===>  [     0.0 ,     0.0 ,     1.0 ]\n",
      "positions of orbitals:\n",
      " #  0  ===>  [     0.0 ,     0.0 ,     0.0 ]\n",
      " #  1  ===>  [     0.0 ,     0.0 ,     0.0 ]\n",
      " #  2  ===>  [     0.0 ,     0.0 ,     0.0 ]\n",
      "site energies:\n",
      " #  0  ===>       0.0\n",
      " #  1  ===>       0.0\n",
      " #  2  ===>       0.0\n",
      "hoppings:\n",
      "<  0 | H |  0 + [  0 ,  1 ,  0 ] >     ===>     -0.6 +     0.0 i\n",
      "<  0 | H |  0 + [  1 ,  0 ,  0 ] >     ===>     -0.6 +     0.0 i\n",
      "<  1 | H |  1 + [  0 ,  1 ,  0 ] >     ===>     -0.6 +     0.0 i\n",
      "<  1 | H |  1 + [  0 ,  0 ,  1 ] >     ===>     -0.6 +     0.0 i\n",
      "<  2 | H |  2 + [  1 ,  0 ,  0 ] >     ===>     -0.6 +     0.0 i\n",
      "<  2 | H |  2 + [  0 ,  0 ,  1 ] >     ===>     -0.6 +     0.0 i\n",
      "hopping distances:\n",
      "|  pos(  0 )  - pos(  0 + [  0 ,  1 ,  0 ] ) |  =       1.0\n",
      "|  pos(  0 )  - pos(  0 + [  1 ,  0 ,  0 ] ) |  =       1.0\n",
      "|  pos(  1 )  - pos(  1 + [  0 ,  1 ,  0 ] ) |  =       1.0\n",
      "|  pos(  1 )  - pos(  1 + [  0 ,  0 ,  1 ] ) |  =       1.0\n",
      "|  pos(  2 )  - pos(  2 + [  1 ,  0 ,  0 ] ) |  =       1.0\n",
      "|  pos(  2 )  - pos(  2 + [  0 ,  0 ,  1 ] ) |  =       1.0\n",
      "\n"
     ]
    }
   ],
   "source": [
    "# print or display the tight-binding model\n",
    "my_model.display()"
   ]
  },
  {
   "cell_type": "code",
   "execution_count": 8,
   "id": "f85994af-def5-4737-9914-7494e9903f6e",
   "metadata": {},
   "outputs": [
    {
     "name": "stdout",
     "output_type": "stream",
     "text": [
      "Warning: could not identify MPI environment!\n",
      "[[1. 0. 0.]\n",
      " [0. 1. 0.]\n",
      " [0. 0. 1.]]\n"
     ]
    },
    {
     "name": "stderr",
     "output_type": "stream",
     "text": [
      "Starting serial run at: 2023-06-30 10:24:49.322768\n"
     ]
    }
   ],
   "source": [
    "# import triqs.lattice.utils\n",
    "# from triqs.lattice.tight_binding import TBLattice\n",
    "from triqs.lattice.utils import TB_from_pythTB\n",
    "tb_triqs = TB_from_pythTB(my_model)\n",
    "print(tb_triqs.units)\n",
    "\n",
    "hoppingKeys = list(tb_triqs.hoppings.keys())\n",
    "# np.array(hoppingKeys)\n",
    "\n",
    "# for key in tb_triqs.hoppings.keys():\n",
    "#     print(key)\n",
    "#     print(tb_triqs.hoppings[key].real)\n",
    "#     print()"
   ]
  },
  {
   "cell_type": "code",
   "execution_count": 55,
   "id": "874bcd84-7e39-4e40-8178-89c00c4d028b",
   "metadata": {},
   "outputs": [],
   "source": [
    "from triqs.lattice.tight_binding import TBLattice\n",
    "import sympy as sp\n",
    "\n",
    "\n",
    "def sympyfy(TBLatObj):\n",
    "    r\"\"\"\n",
    "    returns the analytical form of the momentum space hamiltonian of the tight-binding model \n",
    "    from a tight-binding lattice object, by utilizing Fourier series\n",
    "    \n",
    "    Parameters\n",
    "    ----------\n",
    "    TBLatObj: triqs TBLattice object\n",
    "        triqs tight binding object\n",
    "        \n",
    "    Returns\n",
    "    -------\n",
    "    Hk: NumPy Array\n",
    "        the hamiltonian of the tight-binding model in momentum space\n",
    "        \n",
    "    \"\"\"\n",
    "    I = sp.I\n",
    "    \n",
    "    # axis directions in momentum space (dimension in momentum space is 3)\n",
    "    kSpaceX, kSpaceY, kSpaceZ = sp.symbols(\"kx ky kz\")\n",
    "    \n",
    "    # lattice matrix builder\n",
    "    L1_1, L1_2, L1_3, L2_1, L2_2, L2_3, L3_1, L3_2, L3_3 = sp.symbols(\"L1_1 L1_2 L1_3 L2_1 L2_2 L2_3 L3_1 L3_2 L3_3\")\n",
    "    \n",
    "    # converting the momentum space axial directions and elements of the lattice space matrix into matrices\n",
    "    kSpaceMatrix = sp.Matrix([kSpaceX, kSpaceY, kSpaceZ])\n",
    "    \n",
    "    lattice = sp.Matrix([[L1_1, L1_2, L1_3],\n",
    "                         [L2_1, L2_2, L2_3],\n",
    "                         [L3_1, L3_2, L3_3]])\n",
    "\n",
    "    # the number of orbitals\n",
    "    numOrb = tb_triqs.n_orbitals\n",
    "    \n",
    "    TBLatObjHop = TBLatObj.hoppings\n",
    "    \n",
    "    # fourier transform the hoppings\n",
    "    \n",
    "    # the maximum x, y, and z directions represent the cutoff point we're going to look at\n",
    "    # we ignore anything beyond that\n",
    "    maxX, maxY, maxZ = list(np.max(np.array(list(TBLatObjHop.keys())), axis = 0))\n",
    "    \n",
    "    numCellsX, numCellsY, numCellsZ = [2*maxCoord + 1 for maxCoord in [maxX, maxY, maxZ]]\n",
    "    \n",
    "    # create an empty 5-dimensional matrix/tensor Hamiltonian, the real-space Hamiltonian that encapsulates \n",
    "    # the hoppings from one lattice site to another in real space\n",
    "    # we use this to build up H(R) or H_R, one of the 2 terms used to determine the\n",
    "    # Hamiltonian of the tight-binding model in momentum-space\n",
    "    Hrij = np.zeros((numCellsX, numCellsY, numCellsZ, numOrb, numOrb), dtype = sp.exp)\n",
    "    \n",
    "    for key, hopping in TBLatObjHop.items():\n",
    "        r0, r1, r2 = key\n",
    "        Hrij[r0+maxX, r1+maxY, r2+maxZ] = hopping\n",
    "    \n",
    "    # constructing the second of the 2 terms needed to determine the Hamiltonian in momentum-space\n",
    "    # this Hamiltonian is a summation over all real space axes and has the same dimensions as Hrij\n",
    "    Hexp = np.empty_like(Hrij, dtype = sp.exp)\n",
    "    \n",
    "    # for xi in range(numCellsX):\n",
    "    #     for yi in range(numCellsY):\n",
    "    #         for zi in range(numCellsZ):\n",
    "    #             r = np.array([xi - maxX, yi - maxY, zi - maxZ])\n",
    "    #             r = lattice.dot(r)\n",
    "    #             eikr = sp.exp(-I*kSpaceMatrix.dot(r))\n",
    "    #             Hexp[xi, yi, zi, :, :] = eikr\n",
    "    \n",
    "    for xi, yi, zi in itp(range(numCellsX), range(numCellsY), range(numCellsZ)):\n",
    "        r = np.array([xi - maxX, yi - maxY, zi - maxZ])\n",
    "        r = lattice.dot(r)\n",
    "        eikr = sp.exp(-I*kSpaceMatrix.dot(r))\n",
    "        Hexp[xi, yi, zi, :, :] = eikr\n",
    "    \n",
    "    \n",
    "    Hkrij = Hrij * Hexp\n",
    "    Hk = np.sum(Hkrij, axis = (0, 1, 2))\n",
    "    \n",
    "    \n",
    "    for i, j in itp(range(numOrb), repeat = 2):\n",
    "        Hk[i, j] = Hk[i, j].rewrite(sp.cos).simplify()\n",
    "    \n",
    "    # Hk = Hk.rewrite(sp.cos).simplify()\n",
    "    Hk = sp.Matrix(Hk)\n",
    "    return Hk\n"
   ]
  },
  {
   "cell_type": "code",
   "execution_count": 56,
   "id": "7218ca46-9982-41f1-b592-6335429a250d",
   "metadata": {},
   "outputs": [
    {
     "name": "stdout",
     "output_type": "stream",
     "text": [
      "Matrix([[-1.2*cos(L1_1*kx + L2_1*ky + L3_1*kz) - 1.2*cos(L1_2*kx + L2_2*ky + L3_2*kz), 0, 0], [0, -1.2*cos(L1_2*kx + L2_2*ky + L3_2*kz) - 1.2*cos(L1_3*kx + L2_3*ky + L3_3*kz), 0], [0, 0, -1.2*cos(L1_1*kx + L2_1*ky + L3_1*kz) - 1.2*cos(L1_3*kx + L2_3*ky + L3_3*kz)]])\n"
     ]
    }
   ],
   "source": [
    "print(sympyfy(tb_triqs))"
   ]
  },
  {
   "cell_type": "code",
   "execution_count": 58,
   "id": "ea854c52-5d3a-450b-95d4-10ca14eff14b",
   "metadata": {},
   "outputs": [
    {
     "name": "stdout",
     "output_type": "stream",
     "text": [
      "<class 'triqs.lattice.tight_binding.TBLattice'>\n"
     ]
    }
   ],
   "source": [
    "print(tb_triqs.units)\n",
    "print(tb_triqs.\n",
    "print(type(tb_triqs))"
   ]
  },
  {
   "cell_type": "code",
   "execution_count": 44,
   "id": "c2748a44-73e3-4d06-936f-773623986958",
   "metadata": {
    "tags": []
   },
   "outputs": [
    {
     "name": "stdout",
     "output_type": "stream",
     "text": [
      "Matrix([[-1.2*cos(ak) - 1.2*cos(bk), 0, 0], [0, -1.2*cos(bk) - 1.2*cos(ck), 0], [0, 0, -1.2*cos(ak) - 1.2*cos(ck)]])\n"
     ]
    }
   ],
   "source": [
    "# axis directions in momentum space (dimension in momentum space is 3)\n",
    "kx, ky, kz = sp.symbols(\"kx ky kz\")\n",
    "\n",
    "# lattice matrix builder\n",
    "L1_1, L1_2, L1_3, L2_1, L2_2, L2_3, L3_1, L3_2, L3_3 = sp.symbols(\"L1_1 L1_2 L1_3 L2_1 L2_2 L2_3 L3_1 L3_2 L3_3\")\n",
    "\n",
    "# converting the momentum space axial directions and elements of the lattice space matrix into matrices\n",
    "kSpaceMatrix = sp.Matrix([kx, ky, kz])\n",
    "\n",
    "lattice = sp.Matrix([[L1_1, L1_2, L1_3],\n",
    "                     [L2_1, L2_2, L2_3],\n",
    "                     [L3_1, L3_2, L3_3]])\n",
    "\n",
    "Hk = sympyfy(tb_triqs)\n",
    "ak, bk, ck = sp.symbols(\"ak bk ck\")\n",
    "# expr.subs(x, y)\n",
    "Hk = Hk.subs(L1_1*kx + L2_1*ky + L3_1*kz, ak)\n",
    "Hk = Hk.subs(L1_2*kx + L2_2*ky + L3_2*kz, bk)\n",
    "Hk = Hk.subs(L1_3*kx + L2_3*ky + L3_3*kz, ck)\n",
    "print(Hk)\n"
   ]
  },
  {
   "cell_type": "code",
   "execution_count": null,
   "id": "48310c39",
   "metadata": {},
   "outputs": [],
   "source": [
    "# generate the k-point path and labels\n",
    "path= [[0.0,0.0,0.0],[0.5,0.0, 0.0],[0.5,0.5,0.0],[0.0,0.0,0.0]]\n",
    "label = (r'$\\Gamma $',r'$X$', r'$M$', r'$\\Gamma $')\n",
    "(k_vec, k_dist, k_node) = my_model.k_path(path, 101, report=False)\n"
   ]
  },
  {
   "cell_type": "code",
   "execution_count": null,
   "id": "8c40abd2",
   "metadata": {},
   "outputs": [],
   "source": [
    "# import triqs.lattice.utils\n",
    "# from triqs.lattice.tight_binding import TBLattice\n",
    "from triqs.lattice.utils import TB_from_pythTB\n",
    "tb_triqs = TB_from_pythTB(my_model)\n",
    "# print(tb_triqs)\n",
    "\n",
    "\n",
    "for key in tb_triqs.hoppings.keys():\n",
    "    print(key)\n",
    "    print(tb_triqs.hoppings[key].real)\n",
    "    print()"
   ]
  },
  {
   "cell_type": "code",
   "execution_count": null,
   "id": "e282d3ef",
   "metadata": {
    "scrolled": true
   },
   "outputs": [],
   "source": [
    "# solve for the eigenenergies of the Hamiltonian on the set of k-points above\n",
    "evals = my_model.solve_all(k_vec)\n",
    "print(evals)"
   ]
  },
  {
   "cell_type": "code",
   "execution_count": null,
   "id": "e4028dee",
   "metadata": {},
   "outputs": [],
   "source": [
    "# plotting of band structure\n",
    "print('Plotting the band structure...')\n",
    "fig, ax = plt.subplots()\n",
    "ax.set_xlim(k_node[0], k_node[-1])\n",
    "ax.set_xticks(k_node)\n",
    "ax.set_xticklabels(label)\n",
    "print(k_node)\n",
    "\n",
    "for n in range(len(k_node)):\n",
    "    ax.axvline(x=k_node[n], linewidth=0.5, color='k')\n",
    "\n",
    "# plot the bands\n",
    "for n in range(2):\n",
    "    ax.plot(k_dist, evals[n])\n",
    "\n",
    "# put title\n",
    "ax.set_title('Checkerboard band structure')\n",
    "ax.set_xlabel('Path in k-space')\n",
    "ax.set_ylabel('Band energy')\n",
    "\n",
    "fig.savefig('2D Tight-Binding Checkerboard Model.pdf')"
   ]
  },
  {
   "cell_type": "code",
   "execution_count": null,
   "id": "1876535f",
   "metadata": {},
   "outputs": [],
   "source": []
  },
  {
   "cell_type": "code",
   "execution_count": null,
   "id": "fb2f379b",
   "metadata": {},
   "outputs": [],
   "source": []
  }
 ],
 "metadata": {
  "kernelspec": {
   "display_name": "TRIQS",
   "language": "python",
   "name": "triqs"
  },
  "language_info": {
   "codemirror_mode": {
    "name": "ipython",
    "version": 3
   },
   "file_extension": ".py",
   "mimetype": "text/x-python",
   "name": "python",
   "nbconvert_exporter": "python",
   "pygments_lexer": "ipython3",
   "version": "3.11.4"
  }
 },
 "nbformat": 4,
 "nbformat_minor": 5
}
