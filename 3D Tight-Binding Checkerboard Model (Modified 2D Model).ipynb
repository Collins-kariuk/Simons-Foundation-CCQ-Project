{
 "cells": [
  {
   "cell_type": "code",
   "execution_count": 4,
   "id": "1612367f",
   "metadata": {},
   "outputs": [],
   "source": [
    "from __future__ import print_function\n",
    "from pythtb import *\n",
    "import numpy as np\n",
    "import matplotlib.pyplot as plt\n",
    "from itertools import product as itp"
   ]
  },
  {
   "cell_type": "code",
   "execution_count": 5,
   "id": "e7bf15b8",
   "metadata": {},
   "outputs": [],
   "source": [
    "# define the lattice vectors and the coordinates of orbitals\n",
    "lat = [[1.0, 0.0, 0.0], [0.0, 1.0, 0.0], [0.0, 0.0, 1.0]]\n",
    "orb = [[0.0, 0.0, 0.0], [0.0, 0.0, 0.0], [0.0, 0.0, 0.0]]"
   ]
  },
  {
   "cell_type": "code",
   "execution_count": 6,
   "id": "c3acdb06",
   "metadata": {},
   "outputs": [],
   "source": [
    "# define your model by making a 2D tight-binding checkboard model\n",
    "my_model = tb_model(3,3,lat, orb)"
   ]
  },
  {
   "cell_type": "code",
   "execution_count": 7,
   "id": "4ccfb7dd",
   "metadata": {},
   "outputs": [],
   "source": [
    "# set model parameters\n",
    "delta = 0.0\n",
    "t = -0.6"
   ]
  },
  {
   "cell_type": "code",
   "execution_count": 8,
   "id": "47c19e50",
   "metadata": {},
   "outputs": [],
   "source": [
    "# set on-site energies\n",
    "\n",
    "# the first parameter includes a list of on-site energies for each orbital\n",
    "# if this function is never called, the on-site energy is assumed to be zero\n",
    "my_model.set_onsite([delta, delta, delta])"
   ]
  },
  {
   "cell_type": "code",
   "execution_count": 9,
   "id": "0795ebfa",
   "metadata": {},
   "outputs": [],
   "source": [
    "# set hoppings (one for each connected pair of orbitals)\n",
    "# (hopping amplitude, i (index of orbital in the home unit cell), j, [lattice vector to cell containing j])\n",
    "\n",
    "# hopping from the \"first\" orbital in the home unit cell to the \"zeroth\" orbital which is still in the home unit\n",
    "# cell (indicated by the lattice vector [0, 0])\n",
    "my_model.set_hop(t, 0, 0, [0, 1, 0])\n",
    "my_model.set_hop(t, 0, 0, [1, 0, 0])\n",
    "\n",
    "my_model.set_hop(t, 1, 1, [0, 1, 0])\n",
    "my_model.set_hop(t, 1, 1, [0, 0, 1])\n",
    "\n",
    "my_model.set_hop(t, 2, 2, [1, 0, 0])\n",
    "my_model.set_hop(t, 2, 2, [0, 0, 1])"
   ]
  },
  {
   "cell_type": "code",
   "execution_count": 10,
   "id": "876ac610",
   "metadata": {},
   "outputs": [
    {
     "name": "stdout",
     "output_type": "stream",
     "text": [
      "---------------------------------------\n",
      "report of tight-binding model\n",
      "---------------------------------------\n",
      "k-space dimension           = 3\n",
      "r-space dimension           = 3\n",
      "number of spin components   = 1\n",
      "periodic directions         = [0, 1, 2]\n",
      "number of orbitals          = 3\n",
      "number of electronic states = 3\n",
      "lattice vectors:\n",
      " #  0  ===>  [     1.0 ,     0.0 ,     0.0 ]\n",
      " #  1  ===>  [     0.0 ,     1.0 ,     0.0 ]\n",
      " #  2  ===>  [     0.0 ,     0.0 ,     1.0 ]\n",
      "positions of orbitals:\n",
      " #  0  ===>  [     0.0 ,     0.0 ,     0.0 ]\n",
      " #  1  ===>  [     0.0 ,     0.0 ,     0.0 ]\n",
      " #  2  ===>  [     0.0 ,     0.0 ,     0.0 ]\n",
      "site energies:\n",
      " #  0  ===>       0.0\n",
      " #  1  ===>       0.0\n",
      " #  2  ===>       0.0\n",
      "hoppings:\n",
      "<  0 | H |  0 + [  0 ,  1 ,  0 ] >     ===>     -0.6 +     0.0 i\n",
      "<  0 | H |  0 + [  1 ,  0 ,  0 ] >     ===>     -0.6 +     0.0 i\n",
      "<  1 | H |  1 + [  0 ,  1 ,  0 ] >     ===>     -0.6 +     0.0 i\n",
      "<  1 | H |  1 + [  0 ,  0 ,  1 ] >     ===>     -0.6 +     0.0 i\n",
      "<  2 | H |  2 + [  1 ,  0 ,  0 ] >     ===>     -0.6 +     0.0 i\n",
      "<  2 | H |  2 + [  0 ,  0 ,  1 ] >     ===>     -0.6 +     0.0 i\n",
      "hopping distances:\n",
      "|  pos(  0 )  - pos(  0 + [  0 ,  1 ,  0 ] ) |  =       1.0\n",
      "|  pos(  0 )  - pos(  0 + [  1 ,  0 ,  0 ] ) |  =       1.0\n",
      "|  pos(  1 )  - pos(  1 + [  0 ,  1 ,  0 ] ) |  =       1.0\n",
      "|  pos(  1 )  - pos(  1 + [  0 ,  0 ,  1 ] ) |  =       1.0\n",
      "|  pos(  2 )  - pos(  2 + [  1 ,  0 ,  0 ] ) |  =       1.0\n",
      "|  pos(  2 )  - pos(  2 + [  0 ,  0 ,  1 ] ) |  =       1.0\n",
      "\n"
     ]
    }
   ],
   "source": [
    "# print or display the tight-binding model\n",
    "my_model.display()"
   ]
  },
  {
   "cell_type": "code",
   "execution_count": 70,
   "id": "f85994af-def5-4737-9914-7494e9903f6e",
   "metadata": {},
   "outputs": [
    {
     "name": "stdout",
     "output_type": "stream",
     "text": [
      "{(0, 0, 0): array([[0.+0.j, 0.+0.j, 0.+0.j],\n",
      "       [0.+0.j, 0.+0.j, 0.+0.j],\n",
      "       [0.+0.j, 0.+0.j, 0.+0.j]]), (0, 1, 0): array([[-0.6+0.j,  0. +0.j,  0. +0.j],\n",
      "       [ 0. +0.j, -0.6+0.j,  0. +0.j],\n",
      "       [ 0. +0.j,  0. +0.j,  0. +0.j]]), (0, -1, 0): array([[-0.6+0.j,  0. +0.j,  0. +0.j],\n",
      "       [ 0. +0.j, -0.6+0.j,  0. +0.j],\n",
      "       [ 0. +0.j,  0. +0.j,  0. +0.j]]), (1, 0, 0): array([[-0.6+0.j,  0. +0.j,  0. +0.j],\n",
      "       [ 0. +0.j,  0. +0.j,  0. +0.j],\n",
      "       [ 0. +0.j,  0. +0.j, -0.6+0.j]]), (-1, 0, 0): array([[-0.6+0.j,  0. +0.j,  0. +0.j],\n",
      "       [ 0. +0.j,  0. +0.j,  0. +0.j],\n",
      "       [ 0. +0.j,  0. +0.j, -0.6+0.j]]), (0, 0, 1): array([[ 0. +0.j,  0. +0.j,  0. +0.j],\n",
      "       [ 0. +0.j, -0.6+0.j,  0. +0.j],\n",
      "       [ 0. +0.j,  0. +0.j, -0.6+0.j]]), (0, 0, -1): array([[ 0. +0.j,  0. +0.j,  0. +0.j],\n",
      "       [ 0. +0.j, -0.6+0.j,  0. +0.j],\n",
      "       [ 0. +0.j,  0. +0.j, -0.6+0.j]])}\n",
      "(0, 0, 0)\n",
      "[[0.+0.j 0.+0.j 0.+0.j]\n",
      " [0.+0.j 0.+0.j 0.+0.j]\n",
      " [0.+0.j 0.+0.j 0.+0.j]]\n",
      "(0, 1, 0)\n",
      "[[-0.6+0.j  0. +0.j  0. +0.j]\n",
      " [ 0. +0.j -0.6+0.j  0. +0.j]\n",
      " [ 0. +0.j  0. +0.j  0. +0.j]]\n",
      "(0, -1, 0)\n",
      "[[-0.6+0.j  0. +0.j  0. +0.j]\n",
      " [ 0. +0.j -0.6+0.j  0. +0.j]\n",
      " [ 0. +0.j  0. +0.j  0. +0.j]]\n",
      "(1, 0, 0)\n",
      "[[-0.6+0.j  0. +0.j  0. +0.j]\n",
      " [ 0. +0.j  0. +0.j  0. +0.j]\n",
      " [ 0. +0.j  0. +0.j -0.6+0.j]]\n",
      "(-1, 0, 0)\n",
      "[[-0.6+0.j  0. +0.j  0. +0.j]\n",
      " [ 0. +0.j  0. +0.j  0. +0.j]\n",
      " [ 0. +0.j  0. +0.j -0.6+0.j]]\n",
      "(0, 0, 1)\n",
      "[[ 0. +0.j  0. +0.j  0. +0.j]\n",
      " [ 0. +0.j -0.6+0.j  0. +0.j]\n",
      " [ 0. +0.j  0. +0.j -0.6+0.j]]\n",
      "(0, 0, -1)\n",
      "[[ 0. +0.j  0. +0.j  0. +0.j]\n",
      " [ 0. +0.j -0.6+0.j  0. +0.j]\n",
      " [ 0. +0.j  0. +0.j -0.6+0.j]]\n"
     ]
    }
   ],
   "source": [
    "# import triqs.lattice.utils\n",
    "# from triqs.lattice.tight_binding import TBLattice\n",
    "from triqs.lattice.utils import TB_from_pythTB\n",
    "tb_triqs = TB_from_pythTB(my_model)\n",
    "print(tb_triqs.hoppings)\n",
    "\n",
    "hoppingKeys = list(tb_triqs.hoppings.keys())\n",
    "# np.array(hoppingKeys)\n",
    "\n",
    "for key, hopping in tb_triqs.hoppings.items():\n",
    "    print(key)\n",
    "    print(hopping)"
   ]
  },
  {
   "cell_type": "code",
   "execution_count": 71,
   "id": "874bcd84-7e39-4e40-8178-89c00c4d028b",
   "metadata": {},
   "outputs": [],
   "source": [
    "from triqs.lattice.tight_binding import TBLattice\n",
    "import sympy as sp\n",
    "from sympy import lambdify\n",
    "\n",
    "def sympyfy(TB_lat_obj, numerical=True):\n",
    "    r\"\"\"\n",
    "    returns the analytical form of the momentum space hamiltonian of the tight-binding model \n",
    "    from a tight-binding lattice object, by utilizing Fourier series\n",
    "    \n",
    "    Parameters\n",
    "    ----------\n",
    "    TB_lat_obj: triqs TBLattice object\n",
    "        triqs tight binding object\n",
    "    \n",
    "    Returns\n",
    "    -------\n",
    "    Hk: NumPy Array\n",
    "        the hamiltonian of the tight-binding model in momentum space\n",
    "    \"\"\"\n",
    "    I = sp.I\n",
    "    # axis directions in momentum space (dimension in momentum space is 3)\n",
    "    kx, ky, kz = sp.symbols(\"kx ky kz\")\n",
    "    # individual components of the lattice constants\n",
    "    L1_1, L1_2, L1_3, L2_1, L2_2, L2_3, L3_1, L3_2, L3_3 = sp.symbols(\"L1_1 L1_2 L1_3 L2_1 L2_2 L2_3 L3_1 L3_2 L3_3\")\n",
    "    # making a matrix out of the momentum space axial directions\n",
    "    k_space_matrix = sp.Matrix([kx, ky, kz])\n",
    "    # lattice constants\n",
    "    lattice = sp.Matrix([[L1_1, L1_2, L1_3],\n",
    "                         [L2_1, L2_2, L2_3],\n",
    "                         [L3_1, L3_2, L3_3]])\n",
    "    # the number of orbitals\n",
    "    num_orb = tb_triqs.n_orbitals\n",
    "    # the inter-orbital electron hoppings\n",
    "    TB_lat_obj_hops = TB_lat_obj.hoppings \n",
    "    # maximum hopping distances of electrons in each of the axial directions\n",
    "    max_x, max_y, max_z = list(np.max(np.array(list(TB_lat_obj_hops.keys())), axis = 0))\n",
    "    # number of cells involved in the hopping of electrons in each of the axial directions\n",
    "    num_cells_x, num_cells_y, num_cells_z = [2 * max_coord + 1 for max_coord in [max_x, max_y, max_z]]\n",
    "    # basis of the 5D tensor real-space Hamiltonian\n",
    "    Hrij = np.zeros((num_cells_x, num_cells_y, num_cells_z, num_orb, num_orb), dtype = sp.exp)\n",
    "    # looping through the hopping parameters of the electrons involved in the inter-orbital hoppings\n",
    "    # key represents the cell coordinates of where the electrons hop to relative to the home unit cell\n",
    "    # hopping represents the matrix with the embedded hopping amplitudes\n",
    "    for key, hopping in TB_lat_obj_hops.items():\n",
    "        # the real space hopping distances of the hopping electrons\n",
    "        rx, ry, rz = key\n",
    "        Hrij[rx + max_x, ry + max_y, rz + max_z] = hopping\n",
    "    # basis of the exponential term in the calculation of Hk\n",
    "    # has the same dimensions as the 5D tensor real-space Hamiltonian\n",
    "    Hexp = np.empty_like(Hrij, dtype = sp.exp)\n",
    "    \n",
    "    # actual fourier transform\n",
    "    for xi, yi, zi in itp(range(num_cells_x), range(num_cells_y), range(num_cells_z)):\n",
    "        r = np.array([xi - max_x, yi - max_y, zi - max_z])\n",
    "        r = lattice.dot(r)\n",
    "        eikr = sp.exp(-I * k_space_matrix.dot(r))\n",
    "        Hexp[xi, yi, zi, :, :] = eikr\n",
    "     \n",
    "    # summation over all real space axes\n",
    "    Hk = np.sum(Hrij * Hexp, axis = (0, 1, 2))\n",
    "    \n",
    "    # simplifying and rewriting Hk in terms of cosines\n",
    "    for i, j in itp(range(num_orb), repeat = 2):\n",
    "        Hk[i, j] = Hk[i, j].rewrite(sp.cos).simplify()\n",
    "    # the expanded analytical form of Hk\n",
    "    Hk_analytical = sp.Matrix(Hk)\n",
    "    # symbols for the dot product between the lattice constants and the momentum space matrix\n",
    "    ak, bk, ck = sp.symbols(\"ak bk ck\")\n",
    "    # reducing our analytical Hk form using the lattice constants-k-space matrix dot product\n",
    "    Hk_analytical = Hk_analytical.subs(L1_1*kx + L2_1*ky + L3_1*kz, ak)\n",
    "    Hk_analytical = Hk_analytical.subs(L1_2*kx + L2_2*ky + L3_2*kz, bk)\n",
    "    Hk_analytical = Hk_analytical.subs(L1_3*kx + L2_3*ky + L3_3*kz, ck)\n",
    "    # our reduced analytical expression as a NumPy array\n",
    "    Hk_analytical = np.array(Hk_analytical)\n",
    "    # foundation of numerical form of Hk\n",
    "    Hk_numerical = sp.Matrix(Hk)\n",
    "    # \n",
    "    TBLatObjUnits = TB_lat_obj.units\n",
    "    TBLatObjUnitsTranspose = np.transpose(TBLatObjUnits)\n",
    "    a = TBLatObjUnitsTranspose[0]\n",
    "    b = TBLatObjUnitsTranspose[1]\n",
    "    c = TBLatObjUnitsTranspose[2]\n",
    "\n",
    "    ak_numerical = a.dot(k_space_matrix)\n",
    "    bk_numerical = b.dot(k_space_matrix)\n",
    "    ck_numerical = c.dot(k_space_matrix)\n",
    "    \n",
    "    Hk_numerical = Hk_numerical.subs(L1_1*kx + L2_1*ky + L3_1*kz, ak_numerical[0])\n",
    "    Hk_numerical = Hk_numerical.subs(L1_2*kx + L2_2*ky + L3_2*kz, bk_numerical[0])\n",
    "    Hk_numerical = Hk_numerical.subs(L1_3*kx + L2_3*ky + L3_3*kz, ck_numerical[0])\n",
    "    \n",
    "    Hk_numerical = np.array(Hk_numerical)\n",
    "\n",
    "    if numerical:\n",
    "        return Hk_numerical\n",
    "    return Hk_analytical"
   ]
  },
  {
   "cell_type": "code",
   "execution_count": 72,
   "id": "7218ca46-9982-41f1-b592-6335429a250d",
   "metadata": {},
   "outputs": [
    {
     "name": "stderr",
     "output_type": "stream",
     "text": [
      "/Users/munenekariuki/opt/anaconda3/envs/TRIQS/lib/python3.11/site-packages/sympy/matrices/matrices.py:1401: SymPyDeprecationWarning: \n",
      "\n",
      "Using the dot method to multiply non-row/column vectors is\n",
      "deprecated. Use * or @ to perform matrix multiplication.\n",
      "\n",
      "See https://docs.sympy.org/latest/explanation/active-deprecations.html#deprecated-matrix-dot-non-vector\n",
      "for details.\n",
      "\n",
      "This has been deprecated since SymPy version 1.2. It\n",
      "will be removed in a future version of SymPy.\n",
      "\n",
      "  return self.dot(Matrix(b))\n"
     ]
    },
    {
     "name": "stdout",
     "output_type": "stream",
     "text": [
      "[[-1.2*cos(1.0*kx) - 1.2*cos(1.0*ky) 0 0]\n",
      " [0 -1.2*cos(1.0*ky) - 1.2*cos(1.0*kz) 0]\n",
      " [0 0 -1.2*cos(1.0*kx) - 1.2*cos(1.0*kz)]]\n",
      "[[-1.2*cos(ak) - 1.2*cos(bk) 0 0]\n",
      " [0 -1.2*cos(bk) - 1.2*cos(ck) 0]\n",
      " [0 0 -1.2*cos(ak) - 1.2*cos(ck)]]\n"
     ]
    }
   ],
   "source": [
    "print(sympyfy(tb_triqs))\n",
    "print(sympyfy(tb_triqs, False))"
   ]
  },
  {
   "cell_type": "code",
   "execution_count": 40,
   "id": "ea854c52-5d3a-450b-95d4-10ca14eff14b",
   "metadata": {},
   "outputs": [
    {
     "name": "stdout",
     "output_type": "stream",
     "text": [
      "[[1. 0. 0.]\n",
      " [0. 1. 0.]\n",
      " [0. 0. 1.]]\n",
      "<class 'triqs.lattice.tight_binding.TBLattice'>\n",
      "1.0*kx\n"
     ]
    }
   ],
   "source": [
    "print(tb_triqs.units)\n",
    "print(type(tb_triqs))\n",
    "\n",
    "kx, ky, kz = sp.symbols(\"kx ky kz\")\n",
    "kSpaceMatrix = sp.Matrix([kx, ky, kz])\n",
    "\n",
    "transposeUnits = np.transpose(tb_triqs.units)\n",
    "A = transposeUnits[0]\n",
    "AK = A.dot(kSpaceMatrix)\n",
    "print(AK[0])"
   ]
  },
  {
   "cell_type": "code",
   "execution_count": 13,
   "id": "c2748a44-73e3-4d06-936f-773623986958",
   "metadata": {
    "tags": []
   },
   "outputs": [
    {
     "name": "stdout",
     "output_type": "stream",
     "text": [
      "Matrix([[-1.2*cos(ak) - 1.2*cos(bk), 0, 0], [0, -1.2*cos(bk) - 1.2*cos(ck), 0], [0, 0, -1.2*cos(ak) - 1.2*cos(ck)]])\n"
     ]
    }
   ],
   "source": [
    "# # axis directions in momentum space (dimension in momentum space is 3)\n",
    "# kx, ky, kz = sp.symbols(\"kx ky kz\")\n",
    "\n",
    "# # lattice matrix builder\n",
    "# L1_1, L1_2, L1_3, L2_1, L2_2, L2_3, L3_1, L3_2, L3_3 = sp.symbols(\"L1_1 L1_2 L1_3 L2_1 L2_2 L2_3 L3_1 L3_2 L3_3\")\n",
    "\n",
    "# # converting the momentum space axial directions and elements of the lattice space matrix into matrices\n",
    "# kSpaceMatrix = sp.Matrix([kx, ky, kz])\n",
    "\n",
    "# lattice = sp.Matrix([[L1_1, L1_2, L1_3],\n",
    "#                      [L2_1, L2_2, L2_3],\n",
    "#                      [L3_1, L3_2, L3_3]])\n",
    "\n",
    "# Hk = sympyfy(tb_triqs)\n",
    "# ak, bk, ck = sp.symbols(\"ak bk ck\")\n",
    "# # expr.subs(x, y)\n",
    "# Hk = Hk.subs(L1_1*kx + L2_1*ky + L3_1*kz, ak)\n",
    "# Hk = Hk.subs(L1_2*kx + L2_2*ky + L3_2*kz, bk)\n",
    "# Hk = Hk.subs(L1_3*kx + L2_3*ky + L3_3*kz, ck)\n",
    "# print(Hk)\n"
   ]
  },
  {
   "cell_type": "code",
   "execution_count": null,
   "id": "48310c39",
   "metadata": {},
   "outputs": [],
   "source": [
    "# generate the k-point path and labels\n",
    "path= [[0.0,0.0,0.0],[0.5,0.0, 0.0],[0.5,0.5,0.0],[0.0,0.0,0.0]]\n",
    "label = (r'$\\Gamma $',r'$X$', r'$M$', r'$\\Gamma $')\n",
    "(k_vec, k_dist, k_node) = my_model.k_path(path, 101, report=False)\n"
   ]
  },
  {
   "cell_type": "code",
   "execution_count": null,
   "id": "8c40abd2",
   "metadata": {},
   "outputs": [],
   "source": [
    "# import triqs.lattice.utils\n",
    "# from triqs.lattice.tight_binding import TBLattice\n",
    "from triqs.lattice.utils import TB_from_pythTB\n",
    "tb_triqs = TB_from_pythTB(my_model)\n",
    "# print(tb_triqs)\n",
    "\n",
    "\n",
    "for key in tb_triqs.hoppings.keys():\n",
    "    print(key)\n",
    "    print(tb_triqs.hoppings[key].real)\n",
    "    print()"
   ]
  },
  {
   "cell_type": "code",
   "execution_count": null,
   "id": "e282d3ef",
   "metadata": {
    "scrolled": true
   },
   "outputs": [],
   "source": [
    "# solve for the eigenenergies of the Hamiltonian on the set of k-points above\n",
    "evals = my_model.solve_all(k_vec)\n",
    "print(evals)"
   ]
  },
  {
   "cell_type": "code",
   "execution_count": null,
   "id": "e4028dee",
   "metadata": {},
   "outputs": [],
   "source": [
    "# plotting of band structure\n",
    "print('Plotting the band structure...')\n",
    "fig, ax = plt.subplots()\n",
    "ax.set_xlim(k_node[0], k_node[-1])\n",
    "ax.set_xticks(k_node)\n",
    "ax.set_xticklabels(label)\n",
    "print(k_node)\n",
    "\n",
    "for n in range(len(k_node)):\n",
    "    ax.axvline(x=k_node[n], linewidth=0.5, color='k')\n",
    "\n",
    "# plot the bands\n",
    "for n in range(2):\n",
    "    ax.plot(k_dist, evals[n])\n",
    "\n",
    "# put title\n",
    "ax.set_title('Checkerboard band structure')\n",
    "ax.set_xlabel('Path in k-space')\n",
    "ax.set_ylabel('Band energy')\n",
    "\n",
    "fig.savefig('2D Tight-Binding Checkerboard Model.pdf')"
   ]
  },
  {
   "cell_type": "code",
   "execution_count": null,
   "id": "1876535f",
   "metadata": {},
   "outputs": [],
   "source": []
  },
  {
   "cell_type": "code",
   "execution_count": null,
   "id": "fb2f379b",
   "metadata": {},
   "outputs": [],
   "source": []
  }
 ],
 "metadata": {
  "kernelspec": {
   "display_name": "TRIQS",
   "language": "python",
   "name": "python3"
  },
  "language_info": {
   "codemirror_mode": {
    "name": "ipython",
    "version": 3
   },
   "file_extension": ".py",
   "mimetype": "text/x-python",
   "name": "python",
   "nbconvert_exporter": "python",
   "pygments_lexer": "ipython3",
   "version": "3.11.4"
  }
 },
 "nbformat": 4,
 "nbformat_minor": 5
}
