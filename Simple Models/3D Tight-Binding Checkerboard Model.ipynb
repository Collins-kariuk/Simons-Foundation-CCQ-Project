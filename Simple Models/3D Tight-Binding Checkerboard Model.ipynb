{
 "cells": [
  {
   "cell_type": "code",
   "execution_count": 1,
   "id": "1612367f",
   "metadata": {},
   "outputs": [
    {
     "name": "stdout",
     "output_type": "stream",
     "text": [
      "Warning: could not identify MPI environment!\n"
     ]
    },
    {
     "name": "stderr",
     "output_type": "stream",
     "text": [
      "Starting serial run at: 2023-08-11 12:41:45.618667\n"
     ]
    }
   ],
   "source": [
    "# importing the dependencies\n",
    "from __future__ import print_function\n",
    "from pythtb import *\n",
    "import numpy as np\n",
    "import matplotlib.pyplot as plt\n",
    "from itertools import product as itp\n",
    "from triqs.lattice.tight_binding import TBLattice\n",
    "import sympy as sp\n",
    "from sympy import *\n",
    "import warnings"
   ]
  },
  {
   "cell_type": "code",
   "execution_count": 2,
   "id": "e7bf15b8",
   "metadata": {},
   "outputs": [],
   "source": [
    "# define the lattice vectors and the coordinates of orbitals\n",
    "lat = [[1.0, 0.0, 0.0], [0.0, 1.0, 0.0], [0.0, 0.0, 1.0]]\n",
    "orb = [[0.0, 0.0, 0.0], [0.0, 0.0, 0.0], [0.0, 0.0, 0.0]]"
   ]
  },
  {
   "cell_type": "code",
   "execution_count": 3,
   "id": "c3acdb06",
   "metadata": {},
   "outputs": [],
   "source": [
    "# define your model by making a 2D tight-binding checkboard model\n",
    "my_model = tb_model(3,3,lat, orb)"
   ]
  },
  {
   "cell_type": "code",
   "execution_count": 4,
   "id": "4ccfb7dd",
   "metadata": {},
   "outputs": [],
   "source": [
    "# set model parameters\n",
    "delta = 0.0\n",
    "t = -0.6"
   ]
  },
  {
   "cell_type": "code",
   "execution_count": 5,
   "id": "47c19e50",
   "metadata": {},
   "outputs": [],
   "source": [
    "# set on-site energies\n",
    "\n",
    "# the first parameter includes a list of on-site energies for each orbital\n",
    "# if this function is never called, the on-site energy is assumed to be zero\n",
    "my_model.set_onsite([delta, delta, delta])"
   ]
  },
  {
   "cell_type": "code",
   "execution_count": 6,
   "id": "0795ebfa",
   "metadata": {},
   "outputs": [],
   "source": [
    "# set hoppings (one for each connected pair of orbitals)\n",
    "# (hopping amplitude, i (index of orbital in the home unit cell), j, [lattice vector to cell containing j])\n",
    "\n",
    "# hopping from the \"first\" orbital in the home unit cell to the \"zeroth\" orbital which is still in the home unit\n",
    "# cell (indicated by the lattice vector [0, 0])\n",
    "my_model.set_hop(t, 0, 0, [0, 1, 0])\n",
    "my_model.set_hop(t, 0, 0, [1, 0, 0])\n",
    "\n",
    "my_model.set_hop(t, 1, 1, [0, 1, 0])\n",
    "my_model.set_hop(t, 1, 1, [0, 0, 1])\n",
    "\n",
    "my_model.set_hop(t, 2, 2, [1, 0, 0])\n",
    "my_model.set_hop(t, 2, 2, [0, 0, 1])"
   ]
  },
  {
   "cell_type": "code",
   "execution_count": 7,
   "id": "876ac610",
   "metadata": {},
   "outputs": [
    {
     "name": "stdout",
     "output_type": "stream",
     "text": [
      "---------------------------------------\n",
      "report of tight-binding model\n",
      "---------------------------------------\n",
      "k-space dimension           = 3\n",
      "r-space dimension           = 3\n",
      "number of spin components   = 1\n",
      "periodic directions         = [0, 1, 2]\n",
      "number of orbitals          = 3\n",
      "number of electronic states = 3\n",
      "lattice vectors:\n",
      " #  0  ===>  [     1.0 ,     0.0 ,     0.0 ]\n",
      " #  1  ===>  [     0.0 ,     1.0 ,     0.0 ]\n",
      " #  2  ===>  [     0.0 ,     0.0 ,     1.0 ]\n",
      "positions of orbitals:\n",
      " #  0  ===>  [     0.0 ,     0.0 ,     0.0 ]\n",
      " #  1  ===>  [     0.0 ,     0.0 ,     0.0 ]\n",
      " #  2  ===>  [     0.0 ,     0.0 ,     0.0 ]\n",
      "site energies:\n",
      " #  0  ===>       0.0\n",
      " #  1  ===>       0.0\n",
      " #  2  ===>       0.0\n",
      "hoppings:\n",
      "<  0 | H |  0 + [  0 ,  1 ,  0 ] >     ===>     -0.6 +     0.0 i\n",
      "<  0 | H |  0 + [  1 ,  0 ,  0 ] >     ===>     -0.6 +     0.0 i\n",
      "<  1 | H |  1 + [  0 ,  1 ,  0 ] >     ===>     -0.6 +     0.0 i\n",
      "<  1 | H |  1 + [  0 ,  0 ,  1 ] >     ===>     -0.6 +     0.0 i\n",
      "<  2 | H |  2 + [  1 ,  0 ,  0 ] >     ===>     -0.6 +     0.0 i\n",
      "<  2 | H |  2 + [  0 ,  0 ,  1 ] >     ===>     -0.6 +     0.0 i\n",
      "hopping distances:\n",
      "|  pos(  0 )  - pos(  0 + [  0 ,  1 ,  0 ] ) |  =       1.0\n",
      "|  pos(  0 )  - pos(  0 + [  1 ,  0 ,  0 ] ) |  =       1.0\n",
      "|  pos(  1 )  - pos(  1 + [  0 ,  1 ,  0 ] ) |  =       1.0\n",
      "|  pos(  1 )  - pos(  1 + [  0 ,  0 ,  1 ] ) |  =       1.0\n",
      "|  pos(  2 )  - pos(  2 + [  1 ,  0 ,  0 ] ) |  =       1.0\n",
      "|  pos(  2 )  - pos(  2 + [  0 ,  0 ,  1 ] ) |  =       1.0\n",
      "\n"
     ]
    }
   ],
   "source": [
    "# print or display the tight-binding model\n",
    "my_model.display()"
   ]
  },
  {
   "cell_type": "code",
   "execution_count": 8,
   "id": "7a739c6f",
   "metadata": {},
   "outputs": [],
   "source": [
    "def TB_to_sympy(TBL, analytical = True, precision = 6):\n",
    "    r\"\"\"\n",
    "    returns the analytical form of the momentum space hamiltonian of the tight-binding model \n",
    "    from a tight-binding lattice object by utilizing Fourier series\n",
    "    \n",
    "    Parameters\n",
    "    ----------\n",
    "    TBL: triqs TBLattice object\n",
    "        triqs tight binding object\n",
    "    analytical: boolean, default = True\n",
    "        whether to return the Hamiltonian in analytical (true) or numerical (false) form.\n",
    "    precision: integer, default = 6\n",
    "        specifies the number of digits in the floating point amplitudes. The default value is 6 but the user\n",
    "        can decrease it to help recognize similar hopping amplitudes, particularly for symmetrical hoppings\n",
    "        across the crystal lattice\n",
    "    \n",
    "    Returns\n",
    "    -------\n",
    "    Hk: NumPy array\n",
    "        the Hamiltonian of the tight-binding model in momentum space. It can be output in either numerical\n",
    "        form (Hk_numerical) or reduced analytical form (Hk) based on the user's choice. The default output\n",
    "        is the reduced analytical form. The numerical form depends solely on the k-space vector components\n",
    "        while the analytical form takes into account both the k-space vector components and the lattice\n",
    "        vectors\n",
    "\n",
    "    \"\"\"\n",
    "\n",
    "    import sympy as sp\n",
    "    \n",
    "    # imaginary number\n",
    "    I = sp.I\n",
    "\n",
    "    # symbolic dot product representation between lattice unit vectors\n",
    "    # and momentum space matrix\n",
    "    a1k, a2k, a3k = sp.symbols(\"a1k a2k a3k\", real = True)\n",
    "    lattice = sp.Matrix([a1k, a2k, a3k])\n",
    "\n",
    "    # units contains the displacement vectors\n",
    "    # hops contains details about hopping of electrons such as orbital\n",
    "    # and hopping amplitude\n",
    "    if TBL.units.shape == (2, 2):\n",
    "        TBL_units = np.eye(3)\n",
    "        TBL_units[:2, :2] = TBL.units\n",
    "        TBL_hops = {key + (0,): val for key, val in TBL.hoppings.items()}\n",
    "    elif TBL.units.shape == (3,3):\n",
    "        TBL_units = TBL.units\n",
    "        TBL_hops = TBL.hoppings\n",
    "    # raises error for when the dimensions of the tb object is neither 2D nor 3D\n",
    "    else:\n",
    "        raise ValueError(\"This format of the tight-binding model is not implemented for this function.\")\n",
    "   \n",
    "    # number of orbitals involved in the unit cell\n",
    "    num_orb = TBL.n_orbitals\n",
    "\n",
    "    # maximum hopping distances of electrons in each direction\n",
    "    max_x, max_y, max_z = list(np.max(np.array(list(TBL_hops.keys())), axis = 0))\n",
    "\n",
    "    # number of cells involved in the hopping of electrons in each direction\n",
    "    num_cells_x, num_cells_y, num_cells_z = [2 * max_coord + 1 for max_coord in [max_x, max_y, max_z]]\n",
    "    \n",
    "    # real-space Hamiltonian\n",
    "    Hrij = np.zeros((num_cells_x, num_cells_y, num_cells_z, num_orb, num_orb), dtype = sp.exp)\n",
    "\n",
    "    # looping through hopping parameters of electrons involved in inter-orbital hoppings\n",
    "    for key, hopping in TBL_hops.items():\n",
    "        rx, ry, rz = key\n",
    "        hopping = np.around(hopping, precision)\n",
    "        Hrij[rx + max_x, ry + max_y, rz + max_z] = hopping\n",
    "\n",
    "    # basis of the exponential term in calculation of Hk\n",
    "    Hexp = np.empty_like(Hrij, dtype = sp.exp)\n",
    "\n",
    "    # perform Fourier transform\n",
    "    for xi, yi, zi in itp(range(num_cells_x), range(num_cells_y), range(num_cells_z)):\n",
    "        coefficients = np.array([xi - max_x, yi - max_y, zi - max_z])\n",
    "        r = lattice.dot(coefficients)\n",
    "        eikr = sp.exp(-I * r)\n",
    "        Hexp[xi, yi, zi, :, :] = eikr\n",
    "\n",
    "    # summation over all real space axes\n",
    "    Hk = np.sum(Hrij * Hexp, axis = (0, 1, 2))\n",
    "    \n",
    "    # rewriting exponential terms in Hamiltonian expression in terms of cosine\n",
    "    for i, j in itp(range(num_orb), repeat = 2):\n",
    "        Hk[i, j] = Hk[i, j].rewrite(sp.cos)\n",
    "\n",
    "    def _has_complex_exponential_sympy(matrix):\n",
    "        \"\"\"\n",
    "        Checks if a NumPy array containing SymPy elements has a complex exponential element.\n",
    "\n",
    "        Args:\n",
    "            matrix (NumPy array): The input NumPy array containing SymPy elements\n",
    "        \n",
    "        Returns:\n",
    "            bool: True if the matrix array contains a complex exponential element, False otherwise.\n",
    "\n",
    "        \"\"\"\n",
    "\n",
    "        for sublist in matrix:\n",
    "            for element in sublist:\n",
    "                if element.is_complex and element.has(sp.exp):\n",
    "                    return True\n",
    "        return False\n",
    "    \n",
    "    def _is_hermitian_sympy(matrix):\n",
    "        \"\"\"\n",
    "        Checks if a NumPy array containing SymPy elements is hermitian\n",
    "\n",
    "        Args:\n",
    "            matrix (NumPy array): The input NumPy array containing SymPy elements\n",
    "        \n",
    "        Returns:\n",
    "            bool: True if the matrix is a hermitian, False otherwise\n",
    "\n",
    "        \"\"\"\n",
    "        \n",
    "        n = matrix.shape[0]\n",
    "        for i in range(n):\n",
    "            for j in range(n):\n",
    "                if matrix[i, j] != matrix[j, i].conjugate():\n",
    "                    return False\n",
    "        return True\n",
    "    \n",
    "    # performing the check on the analytical Hamiltonian\n",
    "    if not _is_hermitian_sympy(Hk): warnings.warn(\"The resulting Hamiltonian is not hermitian.\")\n",
    "    if _has_complex_exponential_sympy(Hk): warnings.warn(\"\"\"Your expression has a complex exponential. \n",
    "                                                                    Choosing a different unit cell could make \n",
    "                                                                    your Hamiltonian expression real.\"\"\")\n",
    "    \n",
    "    if analytical: return Hk\n",
    "\n",
    "    # dealing with the numerical Hamiltonian\n",
    "\n",
    "    # convert to SymPy matrix to use substitutions method available in SymPy\n",
    "    Hk_numerical = sp.Matrix(Hk)\n",
    "\n",
    "    # obtaining individual displacement vectors\n",
    "    TBL_units_prec = np.around(TBL_units, precision)\n",
    "\n",
    "    # dot product between unit vectors and momentum vector\n",
    "    k_vec = sp.symbols(\"kx ky kz\", real = True)\n",
    "    a1k_n, a2k_n, a3k_n = TBL_units_prec.dot(k_vec)\n",
    "    \n",
    "    # substitute numerical unit vectors into H_k\n",
    "    Hk_numerical = Hk_numerical.subs([(a1k, a1k_n), (a2k, a2k_n), (a3k, a3k_n)])\n",
    "\n",
    "    Hk_numerical = np.array(Hk_numerical)\n",
    "\n",
    "    if not _is_hermitian_sympy(Hk_numerical): warnings.warn(\"The resulting Hamiltonian is not hermitian.\")\n",
    "    if _has_complex_exponential_sympy(Hk_numerical): warnings.warn(\"\"\"Your expression has a complex exponential. \n",
    "                                                                            Choosing a different unit cell could make \n",
    "                                                                            your Hamiltonian expression real.\"\"\")\n",
    "    return Hk_numerical"
   ]
  },
  {
   "cell_type": "code",
   "execution_count": 9,
   "id": "7218ca46-9982-41f1-b592-6335429a250d",
   "metadata": {},
   "outputs": [
    {
     "name": "stdout",
     "output_type": "stream",
     "text": [
      "The analytical form is: \n",
      " [[-1.2*cos(a1k) - 1.2*cos(a2k) 0 0]\n",
      " [0 -1.2*cos(a2k) - 1.2*cos(a3k) 0]\n",
      " [0 0 -1.2*cos(a1k) - 1.2*cos(a3k)]]\n",
      "The numerical form is: \n",
      " [[-1.2*cos(1.0*kx) - 1.2*cos(1.0*ky) 0 0]\n",
      " [0 -1.2*cos(1.0*ky) - 1.2*cos(1.0*kz) 0]\n",
      " [0 0 -1.2*cos(1.0*kx) - 1.2*cos(1.0*kz)]]\n"
     ]
    }
   ],
   "source": [
    "from triqs.lattice.utils import TB_from_pythTB\n",
    "tb_triqs = TB_from_pythTB(my_model)\n",
    "\n",
    "# calling the function in different scenarios\n",
    "print(\"The analytical form is: \\n\", TB_to_sympy(tb_triqs))\n",
    "print(\"The numerical form is: \\n\", TB_to_sympy(tb_triqs, False))"
   ]
  },
  {
   "cell_type": "code",
   "execution_count": 10,
   "id": "48310c39",
   "metadata": {},
   "outputs": [],
   "source": [
    "# generate the k-point path and labels\n",
    "path= [[0.0,0.0,0.0],[0.5,0.0, 0.0],[0.5,0.5,0.0],[0.0,0.0,0.0]]\n",
    "label = (r'$\\Gamma $',r'$X$', r'$M$', r'$\\Gamma $')\n",
    "(k_vec, k_dist, k_node) = my_model.k_path(path, 101, report = False)"
   ]
  },
  {
   "cell_type": "code",
   "execution_count": 11,
   "id": "e282d3ef",
   "metadata": {
    "scrolled": true
   },
   "outputs": [],
   "source": [
    "# solve for the eigenenergies of the Hamiltonian on the set of k-points above\n",
    "evals = my_model.solve_all(k_vec)"
   ]
  }
 ],
 "metadata": {
  "kernelspec": {
   "display_name": "TRIQS",
   "language": "python",
   "name": "triqs"
  },
  "language_info": {
   "codemirror_mode": {
    "name": "ipython",
    "version": 3
   },
   "file_extension": ".py",
   "mimetype": "text/x-python",
   "name": "python",
   "nbconvert_exporter": "python",
   "pygments_lexer": "ipython3",
   "version": "3.11.4"
  }
 },
 "nbformat": 4,
 "nbformat_minor": 5
}
